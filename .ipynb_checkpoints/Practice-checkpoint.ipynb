{
 "cells": [
  {
   "cell_type": "markdown",
   "id": "20cd3dd8-b754-4203-8bcb-cfa43988790e",
   "metadata": {},
   "source": [
    "This is a new notebook\n"
   ]
  },
  {
   "cell_type": "markdown",
   "id": "ac58bb01-5d2b-4a76-898c-5ce76d86efc4",
   "metadata": {},
   "source": [
    "This notebook is reserved for practice"
   ]
  },
  {
   "cell_type": "code",
   "execution_count": 1,
   "id": "7874a9b9-1fe9-4f75-b238-eda4198ad23a",
   "metadata": {},
   "outputs": [
    {
     "name": "stdout",
     "output_type": "stream",
     "text": [
      "Requirement already satisfied: manim in c:\\users\\mayod\\anaconda3\\lib\\site-packages (0.19.0)\n",
      "Requirement already satisfied: Pillow>=9.1 in c:\\users\\mayod\\anaconda3\\lib\\site-packages (from manim) (11.1.0)\n",
      "Requirement already satisfied: Pygments>=2.0.0 in c:\\users\\mayod\\anaconda3\\lib\\site-packages (from manim) (2.19.1)\n",
      "Requirement already satisfied: audioop-lts>=0.2.0 in c:\\users\\mayod\\anaconda3\\lib\\site-packages (from manim) (0.2.1)\n",
      "Requirement already satisfied: av<14.0.0,>=9.0.0 in c:\\users\\mayod\\anaconda3\\lib\\site-packages (from manim) (13.1.0)\n",
      "Requirement already satisfied: beautifulsoup4>=4.12 in c:\\users\\mayod\\anaconda3\\lib\\site-packages (from manim) (4.12.3)\n",
      "Requirement already satisfied: click>=8.0 in c:\\users\\mayod\\anaconda3\\lib\\site-packages (from manim) (8.1.8)\n",
      "Requirement already satisfied: cloup>=2.0.0 in c:\\users\\mayod\\anaconda3\\lib\\site-packages (from manim) (3.0.7)\n",
      "Requirement already satisfied: decorator>=4.3.2 in c:\\users\\mayod\\anaconda3\\lib\\site-packages (from manim) (5.1.1)\n",
      "Requirement already satisfied: isosurfaces>=0.1.0 in c:\\users\\mayod\\anaconda3\\lib\\site-packages (from manim) (0.1.2)\n",
      "Requirement already satisfied: manimpango<1.0.0,>=0.5.0 in c:\\users\\mayod\\anaconda3\\lib\\site-packages (from manim) (0.6.0)\n",
      "Requirement already satisfied: mapbox-earcut>=1.0.0 in c:\\users\\mayod\\anaconda3\\lib\\site-packages (from manim) (1.0.3)\n",
      "Requirement already satisfied: moderngl<6.0.0,>=5.0.0 in c:\\users\\mayod\\anaconda3\\lib\\site-packages (from manim) (5.12.0)\n",
      "Requirement already satisfied: moderngl-window>=2.0.0 in c:\\users\\mayod\\anaconda3\\lib\\site-packages (from manim) (3.1.1)\n",
      "Requirement already satisfied: networkx>=2.6 in c:\\users\\mayod\\anaconda3\\lib\\site-packages (from manim) (3.4.2)\n",
      "Requirement already satisfied: numpy>=2.1 in c:\\users\\mayod\\anaconda3\\lib\\site-packages (from manim) (2.1.3)\n",
      "Requirement already satisfied: pycairo<2.0.0,>=1.13 in c:\\users\\mayod\\anaconda3\\lib\\site-packages (from manim) (1.28.0)\n",
      "Requirement already satisfied: pydub>=0.20.0 in c:\\users\\mayod\\anaconda3\\lib\\site-packages (from manim) (0.25.1)\n",
      "Requirement already satisfied: rich>=12.0.0 in c:\\users\\mayod\\anaconda3\\lib\\site-packages (from manim) (13.9.4)\n",
      "Requirement already satisfied: scipy>=1.14.0 in c:\\users\\mayod\\anaconda3\\lib\\site-packages (from manim) (1.15.3)\n",
      "Requirement already satisfied: screeninfo>=0.7 in c:\\users\\mayod\\anaconda3\\lib\\site-packages (from manim) (0.8.1)\n",
      "Requirement already satisfied: skia-pathops>=0.7.0 in c:\\users\\mayod\\anaconda3\\lib\\site-packages (from manim) (0.8.0.post2)\n",
      "Requirement already satisfied: srt>=3.0.0 in c:\\users\\mayod\\anaconda3\\lib\\site-packages (from manim) (3.5.3)\n",
      "Requirement already satisfied: svgelements>=1.8.0 in c:\\users\\mayod\\anaconda3\\lib\\site-packages (from manim) (1.9.6)\n",
      "Requirement already satisfied: tqdm>=4.0.0 in c:\\users\\mayod\\anaconda3\\lib\\site-packages (from manim) (4.67.1)\n",
      "Requirement already satisfied: typing-extensions>=4.0.0 in c:\\users\\mayod\\anaconda3\\lib\\site-packages (from manim) (4.12.2)\n",
      "Requirement already satisfied: watchdog>=2.0.0 in c:\\users\\mayod\\anaconda3\\lib\\site-packages (from manim) (4.0.2)\n",
      "Requirement already satisfied: glcontext>=3.0.0 in c:\\users\\mayod\\anaconda3\\lib\\site-packages (from moderngl<6.0.0,>=5.0.0->manim) (3.0.0)\n",
      "Requirement already satisfied: soupsieve>1.2 in c:\\users\\mayod\\anaconda3\\lib\\site-packages (from beautifulsoup4>=4.12->manim) (2.5)\n",
      "Requirement already satisfied: colorama in c:\\users\\mayod\\anaconda3\\lib\\site-packages (from click>=8.0->manim) (0.4.6)\n",
      "Requirement already satisfied: pyglet>=2.0.0 in c:\\users\\mayod\\anaconda3\\lib\\site-packages (from moderngl-window>=2.0.0->manim) (2.1.6)\n",
      "Requirement already satisfied: pyglm<3,>=2.7.0 in c:\\users\\mayod\\anaconda3\\lib\\site-packages (from moderngl-window>=2.0.0->manim) (2.8.2)\n",
      "Requirement already satisfied: markdown-it-py>=2.2.0 in c:\\users\\mayod\\anaconda3\\lib\\site-packages (from rich>=12.0.0->manim) (2.2.0)\n",
      "Requirement already satisfied: mdurl~=0.1 in c:\\users\\mayod\\anaconda3\\lib\\site-packages (from markdown-it-py>=2.2.0->rich>=12.0.0->manim) (0.1.0)\n",
      "Note: you may need to restart the kernel to use updated packages.\n"
     ]
    }
   ],
   "source": [
    "%pip install manim"
   ]
  },
  {
   "cell_type": "code",
   "execution_count": 2,
   "id": "75bf1c22-d848-4d87-9b53-4f94261e4175",
   "metadata": {},
   "outputs": [
    {
     "name": "stderr",
     "output_type": "stream",
     "text": [
      "C:\\Users\\mayod\\anaconda3\\Lib\\site-packages\\pydub\\utils.py:170: RuntimeWarning: Couldn't find ffmpeg or avconv - defaulting to ffmpeg, but may not work\n",
      "  warn(\"Couldn't find ffmpeg or avconv - defaulting to ffmpeg, but may not work\", RuntimeWarning)\n"
     ]
    },
    {
     "name": "stdout",
     "output_type": "stream",
     "text": [
      "0.19.0\n"
     ]
    }
   ],
   "source": [
    "import manim as mn\n",
    "from manim import *\n",
    "\n",
    "config.media_width = \"75%\"\n",
    "config.verbosity = \"WARNING\"\n",
    "print(mn.__version__)"
   ]
  },
  {
   "cell_type": "code",
   "execution_count": 3,
   "id": "5829b848-7f35-4161-b7bb-baae6b4733e0",
   "metadata": {},
   "outputs": [
    {
     "name": "stderr",
     "output_type": "stream",
     "text": [
      "UsageError: Cell magic `%%manim` not found.\n"
     ]
    }
   ],
   "source": [
    "%%manim -qm CircleToSquare\n",
    "\n",
    "class CircleToSquare(Scene):\n",
    "    def construct(self):\n",
    "        circle = Circle(color = BLUE, fill_opacity = 1)\n",
    "        self.play(Create(circle))\n",
    "        self.wait"
   ]
  },
  {
   "cell_type": "code",
   "execution_count": 17,
   "id": "f60d0fec-84d0-4f25-b307-b820b19326b3",
   "metadata": {},
   "outputs": [
    {
     "data": {
      "text/html": [
       "<pre style=\"white-space:pre;overflow-x:auto;line-height:normal;font-family:Menlo,'DejaVu Sans Mono',consolas,'Courier New',monospace\">Manim Community <span style=\"color: #008000; text-decoration-color: #008000\">v0.19.0</span>\n",
       "\n",
       "</pre>\n"
      ],
      "text/plain": [
       "Manim Community \u001b[32mv0.\u001b[0m\u001b[32m19.0\u001b[0m\n",
       "\n"
      ]
     },
     "metadata": {},
     "output_type": "display_data"
    },
    {
     "name": "stderr",
     "output_type": "stream",
     "text": [
      "                                                                     "
     ]
    },
    {
     "data": {
      "text/html": [
       "<video src=\"media\\jupyter\\NewScene@2025-07-08@15-04-27.mp4\" controls autoplay loop style=\"max-width: 75%;\"  >\n",
       "      Your browser does not support the <code>video</code> element.\n",
       "    </video>"
      ],
      "text/plain": [
       "<IPython.core.display.Video object>"
      ]
     },
     "metadata": {},
     "output_type": "display_data"
    }
   ],
   "source": [
    "%%manim -qm NewScene\n",
    "\n",
    "class NewScene(Scene):\n",
    "    def construct(self):\n",
    "        blue_circle = Circle(color=BLUE, fill_opacity=0.5)\n",
    "        green_square = Square(color=GREEN, fill_opacity=0.8)\n",
    "        self.play(Create(blue_circle))\n",
    "        self.wait()\n",
    "        \n",
    "        self.play(Transform(blue_circle, green_square))\n",
    "        self.wait()"
   ]
  },
  {
   "cell_type": "code",
   "execution_count": 10,
   "id": "02a69948-f6ff-400e-8462-982130937327",
   "metadata": {},
   "outputs": [
    {
     "data": {
      "text/html": [
       "<pre style=\"white-space:pre;overflow-x:auto;line-height:normal;font-family:Menlo,'DejaVu Sans Mono',consolas,'Courier New',monospace\">Manim Community <span style=\"color: #008000; text-decoration-color: #008000\">v0.19.0</span>\n",
       "\n",
       "</pre>\n"
      ],
      "text/plain": [
       "Manim Community \u001b[32mv0.\u001b[0m\u001b[32m19.0\u001b[0m\n",
       "\n"
      ]
     },
     "metadata": {},
     "output_type": "display_data"
    },
    {
     "name": "stderr",
     "output_type": "stream",
     "text": [
      "                                                                                                                                         "
     ]
    },
    {
     "ename": "PermissionError",
     "evalue": "[WinError 32] The process cannot access the file because it is being used by another process: 'media\\\\jupyter\\\\mathScene2@2025-08-06@12-21-02.mp4'",
     "output_type": "error",
     "traceback": [
      "\u001b[1;31m---------------------------------------------------------------------------\u001b[0m",
      "\u001b[1;31mPermissionError\u001b[0m                           Traceback (most recent call last)",
      "Cell \u001b[1;32mIn[10], line 1\u001b[0m\n\u001b[1;32m----> 1\u001b[0m get_ipython()\u001b[38;5;241m.\u001b[39mrun_cell_magic(\u001b[38;5;124m'\u001b[39m\u001b[38;5;124mmanim\u001b[39m\u001b[38;5;124m'\u001b[39m, \u001b[38;5;124m'\u001b[39m\u001b[38;5;124m-r 1080,1920 -qm mathScene2\u001b[39m\u001b[38;5;124m'\u001b[39m, \u001b[38;5;124m'\u001b[39m\u001b[38;5;124mconfig.pixel_width = 1080\u001b[39m\u001b[38;5;130;01m\\n\u001b[39;00m\u001b[38;5;124mconfig.pixel_height = 1920\u001b[39m\u001b[38;5;130;01m\\n\u001b[39;00m\u001b[38;5;124mconfig.frame_height = 16\u001b[39m\u001b[38;5;130;01m\\n\u001b[39;00m\u001b[38;5;124mconfig.frame_width = 9\u001b[39m\u001b[38;5;130;01m\\n\u001b[39;00m\u001b[38;5;130;01m\\n\u001b[39;00m\u001b[38;5;124mclass mathScene2(Scene):\u001b[39m\u001b[38;5;130;01m\\n\u001b[39;00m\u001b[38;5;124m    def construct(self):\u001b[39m\u001b[38;5;130;01m\\n\u001b[39;00m\u001b[38;5;124m        \u001b[39m\u001b[38;5;130;01m\\n\u001b[39;00m\u001b[38;5;124m            \u001b[39m\u001b[38;5;130;01m\\n\u001b[39;00m\u001b[38;5;124m        label = MathTex(r\u001b[39m\u001b[38;5;124m\"\u001b[39m\u001b[38;5;130;01m\\\\\u001b[39;00m\u001b[38;5;124mtext\u001b[39m\u001b[38;5;132;01m{Simplify: }\u001b[39;00m\u001b[38;5;124m\"\u001b[39m\u001b[38;5;124m, r\u001b[39m\u001b[38;5;124m\"\u001b[39m\u001b[38;5;130;01m\\\\\u001b[39;00m\u001b[38;5;124mtan(\u001b[39m\u001b[38;5;130;01m\\\\\u001b[39;00m\u001b[38;5;124marcsin(x))\u001b[39m\u001b[38;5;124m\"\u001b[39m\u001b[38;5;124m)\u001b[39m\u001b[38;5;130;01m\\n\u001b[39;00m\u001b[38;5;130;01m\\n\u001b[39;00m\u001b[38;5;124m        self.play(Write(label))\u001b[39m\u001b[38;5;130;01m\\n\u001b[39;00m\u001b[38;5;124m        self.wait(10)\u001b[39m\u001b[38;5;130;01m\\n\u001b[39;00m\u001b[38;5;130;01m\\n\u001b[39;00m\u001b[38;5;124m        self.play(label.animate.shift(UP * 4))\u001b[39m\u001b[38;5;130;01m\\n\u001b[39;00m\u001b[38;5;124m        #label.to_edge(UP)\u001b[39m\u001b[38;5;130;01m\\n\u001b[39;00m\u001b[38;5;124m        self.wait()\u001b[39m\u001b[38;5;130;01m\\n\u001b[39;00m\u001b[38;5;124m        \u001b[39m\u001b[38;5;130;01m\\n\u001b[39;00m\u001b[38;5;124m        # Target the \u001b[39m\u001b[38;5;130;01m\\\\\u001b[39;00m\u001b[38;5;124marcsin(x) inside label[1]\u001b[39m\u001b[38;5;130;01m\\n\u001b[39;00m\u001b[38;5;124m        # Use MathTex to isolate arcsin(x) for accurate positioning\u001b[39m\u001b[38;5;130;01m\\n\u001b[39;00m\u001b[38;5;124m        # Highlight arcsin(x) using a rectangle\u001b[39m\u001b[38;5;130;01m\\n\u001b[39;00m\u001b[38;5;124m        arcsin_part = VGroup(*label[1][4:13])  # Adjust indices if needed\u001b[39m\u001b[38;5;130;01m\\n\u001b[39;00m\u001b[38;5;124m        highlight_box = SurroundingRectangle(arcsin_part, color=YELLOW, buff=0.1)\u001b[39m\u001b[38;5;130;01m\\n\u001b[39;00m\u001b[38;5;124m        self.play(Create(highlight_box))\u001b[39m\u001b[38;5;130;01m\\n\u001b[39;00m\u001b[38;5;124m        self.wait(2)\u001b[39m\u001b[38;5;130;01m\\n\u001b[39;00m\u001b[38;5;130;01m\\n\u001b[39;00m\u001b[38;5;130;01m\\n\u001b[39;00m\u001b[38;5;124m        # Show explanation: arcsin(x) = θ → sin(θ) = x\u001b[39m\u001b[38;5;130;01m\\n\u001b[39;00m\u001b[38;5;124m        explain1 = MathTex(r\u001b[39m\u001b[38;5;124m\"\u001b[39m\u001b[38;5;130;01m\\\\\u001b[39;00m\u001b[38;5;124marcsin(x) = \u001b[39m\u001b[38;5;130;01m\\\\\u001b[39;00m\u001b[38;5;124mtheta\u001b[39m\u001b[38;5;124m\"\u001b[39m\u001b[38;5;124m)\u001b[39m\u001b[38;5;130;01m\\n\u001b[39;00m\u001b[38;5;124m        explain1.arrange(DOWN).next_to(highlight_box, DOWN)\u001b[39m\u001b[38;5;130;01m\\n\u001b[39;00m\u001b[38;5;130;01m\\n\u001b[39;00m\u001b[38;5;124m        self.play(Write(explain1))\u001b[39m\u001b[38;5;130;01m\\n\u001b[39;00m\u001b[38;5;124m        self.wait(3)\u001b[39m\u001b[38;5;130;01m\\n\u001b[39;00m\u001b[38;5;130;01m\\n\u001b[39;00m\u001b[38;5;124m        explain2 = MathTex(r\u001b[39m\u001b[38;5;124m\"\u001b[39m\u001b[38;5;130;01m\\\\\u001b[39;00m\u001b[38;5;124mRightarrow \u001b[39m\u001b[38;5;130;01m\\\\\u001b[39;00m\u001b[38;5;124msin(\u001b[39m\u001b[38;5;130;01m\\\\\u001b[39;00m\u001b[38;5;124mtheta) = x\u001b[39m\u001b[38;5;124m\"\u001b[39m\u001b[38;5;124m)\u001b[39m\u001b[38;5;130;01m\\n\u001b[39;00m\u001b[38;5;124m        explain2.next_to(explain1, DOWN)\u001b[39m\u001b[38;5;130;01m\\n\u001b[39;00m\u001b[38;5;124m        self.play(Write(explain2))\u001b[39m\u001b[38;5;130;01m\\n\u001b[39;00m\u001b[38;5;124m        self.wait(3)\u001b[39m\u001b[38;5;130;01m\\n\u001b[39;00m\u001b[38;5;124m        \u001b[39m\u001b[38;5;130;01m\\n\u001b[39;00m\u001b[38;5;124m        #STEP1\u001b[39m\u001b[38;5;130;01m\\n\u001b[39;00m\u001b[38;5;124m        #step1 = MathTex(r\u001b[39m\u001b[38;5;124m\"\u001b[39m\u001b[38;5;130;01m\\\\\u001b[39;00m\u001b[38;5;124mtheta = \u001b[39m\u001b[38;5;130;01m\\\\\u001b[39;00m\u001b[38;5;124marcsin(x)\u001b[39m\u001b[38;5;124m\"\u001b[39m\u001b[38;5;124m)\u001b[39m\u001b[38;5;130;01m\\n\u001b[39;00m\u001b[38;5;124m        #step1.next_to(label, DOWN, buff=1.0)\u001b[39m\u001b[38;5;130;01m\\n\u001b[39;00m\u001b[38;5;124m        #self.play(Write(step1))\u001b[39m\u001b[38;5;130;01m\\n\u001b[39;00m\u001b[38;5;124m        #self.wait(5)\u001b[39m\u001b[38;5;130;01m\\n\u001b[39;00m\u001b[38;5;130;01m\\n\u001b[39;00m\u001b[38;5;124m        #step2 = MathTex(r\u001b[39m\u001b[38;5;124m\"\u001b[39m\u001b[38;5;130;01m\\\\\u001b[39;00m\u001b[38;5;124msin(\u001b[39m\u001b[38;5;130;01m\\\\\u001b[39;00m\u001b[38;5;124marcsin(x))\u001b[39m\u001b[38;5;124m\"\u001b[39m\u001b[38;5;124m, \u001b[39m\u001b[38;5;124m\"\u001b[39m\u001b[38;5;124m = \u001b[39m\u001b[38;5;124m\"\u001b[39m\u001b[38;5;124m, r\u001b[39m\u001b[38;5;124m\"\u001b[39m\u001b[38;5;130;01m\\\\\u001b[39;00m\u001b[38;5;124msin(\u001b[39m\u001b[38;5;130;01m\\\\\u001b[39;00m\u001b[38;5;124mtheta)\u001b[39m\u001b[38;5;124m\"\u001b[39m\u001b[38;5;124m)\u001b[39m\u001b[38;5;130;01m\\n\u001b[39;00m\u001b[38;5;124m        #step2.next_to(label, DOWN, buff = 1.0)\u001b[39m\u001b[38;5;130;01m\\n\u001b[39;00m\u001b[38;5;124m        #self.play(TransformMatchingShapes(step1, step2))\u001b[39m\u001b[38;5;130;01m\\n\u001b[39;00m\u001b[38;5;124m        #self.wait(3)\u001b[39m\u001b[38;5;130;01m\\n\u001b[39;00m\u001b[38;5;130;01m\\n\u001b[39;00m\u001b[38;5;124m        #step3 = MathTex(r\u001b[39m\u001b[38;5;124m\"\u001b[39m\u001b[38;5;130;01m\\\\\u001b[39;00m\u001b[38;5;124msin(\u001b[39m\u001b[38;5;130;01m\\\\\u001b[39;00m\u001b[38;5;124mtheta)\u001b[39m\u001b[38;5;124m\"\u001b[39m\u001b[38;5;124m, r\u001b[39m\u001b[38;5;124m\"\u001b[39m\u001b[38;5;124m = \u001b[39m\u001b[38;5;124m\"\u001b[39m\u001b[38;5;124m, r\u001b[39m\u001b[38;5;124m\"\u001b[39m\u001b[38;5;124mx\u001b[39m\u001b[38;5;124m\"\u001b[39m\u001b[38;5;124m )\u001b[39m\u001b[38;5;130;01m\\n\u001b[39;00m\u001b[38;5;124m        #step3.next_to(step2, DOWN)\u001b[39m\u001b[38;5;130;01m\\n\u001b[39;00m\u001b[38;5;124m        #self.play(Write(step3))\u001b[39m\u001b[38;5;130;01m\\n\u001b[39;00m\u001b[38;5;124m        #self.wait(5)\u001b[39m\u001b[38;5;130;01m\\n\u001b[39;00m\u001b[38;5;124m        \u001b[39m\u001b[38;5;130;01m\\n\u001b[39;00m\u001b[38;5;124m        #step3.1 = MathTex(r\u001b[39m\u001b[38;5;124m\"\u001b[39m\u001b[38;5;124mx\u001b[39m\u001b[38;5;124m\"\u001b[39m\u001b[38;5;124m, r\u001b[39m\u001b[38;5;124m\"\u001b[39m\u001b[38;5;124m = \u001b[39m\u001b[38;5;124m\"\u001b[39m\u001b[38;5;124m,r\u001b[39m\u001b[38;5;124m\"\u001b[39m\u001b[38;5;130;01m\\\\\u001b[39;00m\u001b[38;5;124msin(\u001b[39m\u001b[38;5;130;01m\\\\\u001b[39;00m\u001b[38;5;124mtheta)\u001b[39m\u001b[38;5;124m\"\u001b[39m\u001b[38;5;124m)\u001b[39m\u001b[38;5;130;01m\\n\u001b[39;00m\u001b[38;5;124m        #step3.1.next_to(step1, DOWN)\u001b[39m\u001b[38;5;130;01m\\n\u001b[39;00m\u001b[38;5;124m        #self.play(TransformMatchingShapes(step3, step3.1))\u001b[39m\u001b[38;5;130;01m\\n\u001b[39;00m\u001b[38;5;124m        #self.wait(3)\u001b[39m\u001b[38;5;130;01m\\n\u001b[39;00m\u001b[38;5;130;01m\\n\u001b[39;00m\u001b[38;5;124m        question1 = MathTex(r\u001b[39m\u001b[38;5;124m\"\u001b[39m\u001b[38;5;130;01m\\\\\u001b[39;00m\u001b[38;5;124mtext\u001b[39m\u001b[38;5;124m{\u001b[39m\u001b[38;5;124mIf }\u001b[39m\u001b[38;5;124m\"\u001b[39m\u001b[38;5;124m, r\u001b[39m\u001b[38;5;124m\"\u001b[39m\u001b[38;5;130;01m\\\\\u001b[39;00m\u001b[38;5;124msin(\u001b[39m\u001b[38;5;130;01m\\\\\u001b[39;00m\u001b[38;5;124mtheta) = x\u001b[39m\u001b[38;5;124m\"\u001b[39m\u001b[38;5;124m, \u001b[39m\u001b[38;5;124m\"\u001b[39m\u001b[38;5;124m, \u001b[39m\u001b[38;5;124m\"\u001b[39m\u001b[38;5;124m, r\u001b[39m\u001b[38;5;124m\"\u001b[39m\u001b[38;5;130;01m\\\\\u001b[39;00m\u001b[38;5;124mtext\u001b[39m\u001b[38;5;124m{\u001b[39m\u001b[38;5;124mWhat is}\u001b[39m\u001b[38;5;124m\"\u001b[39m\u001b[38;5;124m, r\u001b[39m\u001b[38;5;124m\"\u001b[39m\u001b[38;5;130;01m\\\\\u001b[39;00m\u001b[38;5;124mtan(\u001b[39m\u001b[38;5;130;01m\\\\\u001b[39;00m\u001b[38;5;124mtheta)? \u001b[39m\u001b[38;5;124m\"\u001b[39m\u001b[38;5;124m)\u001b[39m\u001b[38;5;130;01m\\n\u001b[39;00m\u001b[38;5;124m        question1.set_color_by_tex(r\u001b[39m\u001b[38;5;124m\"\u001b[39m\u001b[38;5;130;01m\\\\\u001b[39;00m\u001b[38;5;124msin(\u001b[39m\u001b[38;5;130;01m\\\\\u001b[39;00m\u001b[38;5;124mtheta) = x\u001b[39m\u001b[38;5;124m\"\u001b[39m\u001b[38;5;124m, GREEN)\u001b[39m\u001b[38;5;130;01m\\n\u001b[39;00m\u001b[38;5;124m        question1.set_color_by_tex(r\u001b[39m\u001b[38;5;124m\"\u001b[39m\u001b[38;5;130;01m\\\\\u001b[39;00m\u001b[38;5;124mtan(\u001b[39m\u001b[38;5;130;01m\\\\\u001b[39;00m\u001b[38;5;124mtheta)\u001b[39m\u001b[38;5;124m\"\u001b[39m\u001b[38;5;124m, RED)\u001b[39m\u001b[38;5;130;01m\\n\u001b[39;00m\u001b[38;5;124m        question1.next_to(label, DOWN, buff = 4)\u001b[39m\u001b[38;5;130;01m\\n\u001b[39;00m\u001b[38;5;124m        self.play(Write(question1))\u001b[39m\u001b[38;5;130;01m\\n\u001b[39;00m\u001b[38;5;124m        self.wait(3)\u001b[39m\u001b[38;5;130;01m\\n\u001b[39;00m\u001b[38;5;130;01m\\n\u001b[39;00m\u001b[38;5;124m        statement = Text(\u001b[39m\u001b[38;5;124m\"\u001b[39m\u001b[38;5;124mRecall the pythagorean theorem \u001b[39m\u001b[38;5;124m\"\u001b[39m\u001b[38;5;124m, font_size=30)\u001b[39m\u001b[38;5;130;01m\\n\u001b[39;00m\u001b[38;5;124m        statement.next_to(question1, DOWN)\u001b[39m\u001b[38;5;130;01m\\n\u001b[39;00m\u001b[38;5;124m        self.play(Write(statement))\u001b[39m\u001b[38;5;130;01m\\n\u001b[39;00m\u001b[38;5;124m        self.wait()\u001b[39m\u001b[38;5;130;01m\\n\u001b[39;00m\u001b[38;5;130;01m\\n\u001b[39;00m\u001b[38;5;124m        step3_1 = MathTex(r\u001b[39m\u001b[38;5;124m\"\u001b[39m\u001b[38;5;130;01m\\\\\u001b[39;00m\u001b[38;5;124msin(\u001b[39m\u001b[38;5;130;01m\\\\\u001b[39;00m\u001b[38;5;124mtheta)\u001b[39m\u001b[38;5;124m\"\u001b[39m\u001b[38;5;124m, r\u001b[39m\u001b[38;5;124m\"\u001b[39m\u001b[38;5;124m = \u001b[39m\u001b[38;5;124m\"\u001b[39m\u001b[38;5;124m, r\u001b[39m\u001b[38;5;124m\"\u001b[39m\u001b[38;5;124mx\u001b[39m\u001b[38;5;124m\"\u001b[39m\u001b[38;5;124m)\u001b[39m\u001b[38;5;130;01m\\n\u001b[39;00m\u001b[38;5;124m        step3_1.next_to(statement, DOWN)\u001b[39m\u001b[38;5;130;01m\\n\u001b[39;00m\u001b[38;5;124m        self.play(Write(step3_1))\u001b[39m\u001b[38;5;130;01m\\n\u001b[39;00m\u001b[38;5;124m        self.wait()\u001b[39m\u001b[38;5;130;01m\\n\u001b[39;00m\u001b[38;5;130;01m\\n\u001b[39;00m\u001b[38;5;124m        step3_2 = MathTex(r\u001b[39m\u001b[38;5;124m\"\u001b[39m\u001b[38;5;130;01m\\\\\u001b[39;00m\u001b[38;5;124msin(\u001b[39m\u001b[38;5;130;01m\\\\\u001b[39;00m\u001b[38;5;124mtheta)\u001b[39m\u001b[38;5;124m\"\u001b[39m\u001b[38;5;124m, r\u001b[39m\u001b[38;5;124m\"\u001b[39m\u001b[38;5;124m = \u001b[39m\u001b[38;5;124m\"\u001b[39m\u001b[38;5;124m, r\u001b[39m\u001b[38;5;124m\"\u001b[39m\u001b[38;5;130;01m\\\\\u001b[39;00m\u001b[38;5;124mfrac\u001b[39m\u001b[38;5;132;01m{x}\u001b[39;00m\u001b[38;5;132;01m{1}\u001b[39;00m\u001b[38;5;124m\"\u001b[39m\u001b[38;5;124m)\u001b[39m\u001b[38;5;130;01m\\n\u001b[39;00m\u001b[38;5;124m        step3_2.set_color_by_tex(r\u001b[39m\u001b[38;5;124m\"\u001b[39m\u001b[38;5;130;01m\\\\\u001b[39;00m\u001b[38;5;124mfrac\u001b[39m\u001b[38;5;132;01m{x}\u001b[39;00m\u001b[38;5;132;01m{1}\u001b[39;00m\u001b[38;5;124m\"\u001b[39m\u001b[38;5;124m, GREEN)\u001b[39m\u001b[38;5;130;01m\\n\u001b[39;00m\u001b[38;5;124m        step3_2.next_to(statement, DOWN)\u001b[39m\u001b[38;5;130;01m\\n\u001b[39;00m\u001b[38;5;124m        self.play(TransformMatchingShapes(step3_1,step3_2))\u001b[39m\u001b[38;5;130;01m\\n\u001b[39;00m\u001b[38;5;124m        self.wait(3)\u001b[39m\u001b[38;5;130;01m\\n\u001b[39;00m\u001b[38;5;130;01m\\n\u001b[39;00m\u001b[38;5;124m        step3_3 = MathTex(r\u001b[39m\u001b[38;5;124m\"\u001b[39m\u001b[38;5;130;01m\\\\\u001b[39;00m\u001b[38;5;124msin(\u001b[39m\u001b[38;5;130;01m\\\\\u001b[39;00m\u001b[38;5;124mtheta)\u001b[39m\u001b[38;5;124m\"\u001b[39m\u001b[38;5;124m, r\u001b[39m\u001b[38;5;124m\"\u001b[39m\u001b[38;5;124m = \u001b[39m\u001b[38;5;124m\"\u001b[39m\u001b[38;5;124m, r\u001b[39m\u001b[38;5;124m\"\u001b[39m\u001b[38;5;130;01m\\\\\u001b[39;00m\u001b[38;5;124mfrac\u001b[39m\u001b[38;5;132;01m{x}\u001b[39;00m\u001b[38;5;132;01m{1}\u001b[39;00m\u001b[38;5;124m\"\u001b[39m\u001b[38;5;124m, r\u001b[39m\u001b[38;5;124m\"\u001b[39m\u001b[38;5;124m = \u001b[39m\u001b[38;5;124m\"\u001b[39m\u001b[38;5;124m, r\u001b[39m\u001b[38;5;124m\"\u001b[39m\u001b[38;5;130;01m\\\\\u001b[39;00m\u001b[38;5;124mfrac\u001b[39m\u001b[38;5;132;01m{OPP}\u001b[39;00m\u001b[38;5;132;01m{HYP}\u001b[39;00m\u001b[38;5;124m\"\u001b[39m\u001b[38;5;124m)\u001b[39m\u001b[38;5;130;01m\\n\u001b[39;00m\u001b[38;5;124m        step3_3.set_color_by_tex(r\u001b[39m\u001b[38;5;124m\"\u001b[39m\u001b[38;5;130;01m\\\\\u001b[39;00m\u001b[38;5;124mfrac\u001b[39m\u001b[38;5;132;01m{OPP}\u001b[39;00m\u001b[38;5;132;01m{HYP}\u001b[39;00m\u001b[38;5;124m\"\u001b[39m\u001b[38;5;124m, YELLOW)\u001b[39m\u001b[38;5;130;01m\\n\u001b[39;00m\u001b[38;5;124m        step3_3.next_to(statement, DOWN)\u001b[39m\u001b[38;5;130;01m\\n\u001b[39;00m\u001b[38;5;124m        self.play(TransformMatchingShapes(step3_2,step3_3))\u001b[39m\u001b[38;5;130;01m\\n\u001b[39;00m\u001b[38;5;124m        self.wait(3)\u001b[39m\u001b[38;5;130;01m\\n\u001b[39;00m\u001b[38;5;130;01m\\n\u001b[39;00m\u001b[38;5;124m        objects_to_fade = [m for m in self.mobjects if m != label]\u001b[39m\u001b[38;5;130;01m\\n\u001b[39;00m\u001b[38;5;124m        self.play(*[FadeOut(m) for m in objects_to_fade])\u001b[39m\u001b[38;5;130;01m\\n\u001b[39;00m\u001b[38;5;124m        self.wait()\u001b[39m\u001b[38;5;130;01m\\n\u001b[39;00m\u001b[38;5;130;01m\\n\u001b[39;00m\u001b[38;5;124m        statement2 = Text(\u001b[39m\u001b[38;5;124m\"\u001b[39m\u001b[38;5;124m(SOH CAH TOA)\u001b[39m\u001b[38;5;124m\"\u001b[39m\u001b[38;5;124m, font_size=30)\u001b[39m\u001b[38;5;130;01m\\n\u001b[39;00m\u001b[38;5;124m        statement2.next_to(label, DOWN, buff = 1.5 )\u001b[39m\u001b[38;5;130;01m\\n\u001b[39;00m\u001b[38;5;124m        self.play(Write(statement2))\u001b[39m\u001b[38;5;130;01m\\n\u001b[39;00m\u001b[38;5;124m        self.wait()\u001b[39m\u001b[38;5;130;01m\\n\u001b[39;00m\u001b[38;5;130;01m\\n\u001b[39;00m\u001b[38;5;124m        #Insert triangle here\u001b[39m\u001b[38;5;130;01m\\n\u001b[39;00m\u001b[38;5;124m        # Right-angled triangle with labels\u001b[39m\u001b[38;5;130;01m\\n\u001b[39;00m\u001b[38;5;124m       # Right-angled triangle with labels\u001b[39m\u001b[38;5;130;01m\\n\u001b[39;00m\u001b[38;5;124m        shift = DOWN * 1  # shift the whole triangle downward\u001b[39m\u001b[38;5;130;01m\\n\u001b[39;00m\u001b[38;5;130;01m\\n\u001b[39;00m\u001b[38;5;124m        A = ORIGIN + shift\u001b[39m\u001b[38;5;130;01m\\n\u001b[39;00m\u001b[38;5;124m        B = A + 3 * RIGHT\u001b[39m\u001b[38;5;130;01m\\n\u001b[39;00m\u001b[38;5;124m        C = A + 2 * UP\u001b[39m\u001b[38;5;130;01m\\n\u001b[39;00m\u001b[38;5;130;01m\\n\u001b[39;00m\u001b[38;5;124m        triangle = Polygon(A, B, C, color=BLUE)\u001b[39m\u001b[38;5;130;01m\\n\u001b[39;00m\u001b[38;5;124m        self.play(Create(triangle))\u001b[39m\u001b[38;5;130;01m\\n\u001b[39;00m\u001b[38;5;130;01m\\n\u001b[39;00m\u001b[38;5;124m        # Label the triangle sides\u001b[39m\u001b[38;5;130;01m\\n\u001b[39;00m\u001b[38;5;124m        hyp = MathTex(\u001b[39m\u001b[38;5;124m\"\u001b[39m\u001b[38;5;124mHYP\u001b[39m\u001b[38;5;124m\"\u001b[39m\u001b[38;5;124m).move_to((B + C) / 2 + UP * 0.6)\u001b[39m\u001b[38;5;130;01m\\n\u001b[39;00m\u001b[38;5;124m        adj = MathTex(\u001b[39m\u001b[38;5;124m\"\u001b[39m\u001b[38;5;124mADJ\u001b[39m\u001b[38;5;124m\"\u001b[39m\u001b[38;5;124m).move_to((A + B) / 2 + DOWN * 0.3)\u001b[39m\u001b[38;5;130;01m\\n\u001b[39;00m\u001b[38;5;124m        opp = MathTex(\u001b[39m\u001b[38;5;124m\"\u001b[39m\u001b[38;5;124mOPP\u001b[39m\u001b[38;5;124m\"\u001b[39m\u001b[38;5;124m).move_to((A + C) / 2 + LEFT * 0.6)\u001b[39m\u001b[38;5;130;01m\\n\u001b[39;00m\u001b[38;5;124m        self.play(Write(opp), Write(adj), Write(hyp))\u001b[39m\u001b[38;5;130;01m\\n\u001b[39;00m\u001b[38;5;130;01m\\n\u001b[39;00m\u001b[38;5;124m        # Mark the right angle\u001b[39m\u001b[38;5;130;01m\\n\u001b[39;00m\u001b[38;5;124m        right_angle = Square(0.3, color=BLUE)\u001b[39m\u001b[38;5;130;01m\\n\u001b[39;00m\u001b[38;5;124m        right_angle.move_to(A + UR * 0.15)\u001b[39m\u001b[38;5;130;01m\\n\u001b[39;00m\u001b[38;5;124m        self.play(Create(right_angle))\u001b[39m\u001b[38;5;130;01m\\n\u001b[39;00m\u001b[38;5;124m        self.wait(2)\u001b[39m\u001b[38;5;130;01m\\n\u001b[39;00m\u001b[38;5;130;01m\\n\u001b[39;00m\u001b[38;5;124m        # Define updated side labels\u001b[39m\u001b[38;5;130;01m\\n\u001b[39;00m\u001b[38;5;124m        hyp2 = MathTex(\u001b[39m\u001b[38;5;124m\"\u001b[39m\u001b[38;5;124mHYP = 1\u001b[39m\u001b[38;5;124m\"\u001b[39m\u001b[38;5;124m).move_to((B + C) / 2 + UP * 0.9)\u001b[39m\u001b[38;5;130;01m\\n\u001b[39;00m\u001b[38;5;124m        adj2 = MathTex(\u001b[39m\u001b[38;5;124m\"\u001b[39m\u001b[38;5;124mADJ =\u001b[39m\u001b[38;5;124m\"\u001b[39m\u001b[38;5;124m, r\u001b[39m\u001b[38;5;124m\"\u001b[39m\u001b[38;5;124m ?\u001b[39m\u001b[38;5;124m\"\u001b[39m\u001b[38;5;124m).move_to((A + B) / 2 + DOWN * 0.3)\u001b[39m\u001b[38;5;130;01m\\n\u001b[39;00m\u001b[38;5;124m        opp2 = MathTex(\u001b[39m\u001b[38;5;124m\"\u001b[39m\u001b[38;5;124mOPP = x\u001b[39m\u001b[38;5;124m\"\u001b[39m\u001b[38;5;124m).move_to((A + C) / 2 + LEFT * 1.2)\u001b[39m\u001b[38;5;130;01m\\n\u001b[39;00m\u001b[38;5;124m        \u001b[39m\u001b[38;5;130;01m\\n\u001b[39;00m\u001b[38;5;124m        # Animate the transformation for each one\u001b[39m\u001b[38;5;130;01m\\n\u001b[39;00m\u001b[38;5;124m        self.play(\u001b[39m\u001b[38;5;130;01m\\n\u001b[39;00m\u001b[38;5;124m            TransformMatchingShapes(hyp, hyp2),\u001b[39m\u001b[38;5;130;01m\\n\u001b[39;00m\u001b[38;5;124m            TransformMatchingShapes(adj, adj2),\u001b[39m\u001b[38;5;130;01m\\n\u001b[39;00m\u001b[38;5;124m            TransformMatchingShapes(opp, opp2)\u001b[39m\u001b[38;5;130;01m\\n\u001b[39;00m\u001b[38;5;124m        )\u001b[39m\u001b[38;5;130;01m\\n\u001b[39;00m\u001b[38;5;124m        self.wait(3)\u001b[39m\u001b[38;5;130;01m\\n\u001b[39;00m\u001b[38;5;130;01m\\n\u001b[39;00m\u001b[38;5;124m        text1 = MathTex(r\u001b[39m\u001b[38;5;124m\"\u001b[39m\u001b[38;5;130;01m\\\\\u001b[39;00m\u001b[38;5;124mtan(\u001b[39m\u001b[38;5;130;01m\\\\\u001b[39;00m\u001b[38;5;124mtheta)\u001b[39m\u001b[38;5;124m\"\u001b[39m\u001b[38;5;124m, r\u001b[39m\u001b[38;5;124m\"\u001b[39m\u001b[38;5;124m = \u001b[39m\u001b[38;5;124m\"\u001b[39m\u001b[38;5;124m, r\u001b[39m\u001b[38;5;124m\"\u001b[39m\u001b[38;5;130;01m\\\\\u001b[39;00m\u001b[38;5;124mfrac\u001b[39m\u001b[38;5;132;01m{OPP}\u001b[39;00m\u001b[38;5;132;01m{ADJ}\u001b[39;00m\u001b[38;5;124m\"\u001b[39m\u001b[38;5;124m)\u001b[39m\u001b[38;5;130;01m\\n\u001b[39;00m\u001b[38;5;124m        text1.set_color_by_tex(r\u001b[39m\u001b[38;5;124m\"\u001b[39m\u001b[38;5;130;01m\\\\\u001b[39;00m\u001b[38;5;124mfrac\u001b[39m\u001b[38;5;132;01m{OPP}\u001b[39;00m\u001b[38;5;132;01m{ADJ}\u001b[39;00m\u001b[38;5;124m\"\u001b[39m\u001b[38;5;124m, YELLOW)\u001b[39m\u001b[38;5;130;01m\\n\u001b[39;00m\u001b[38;5;124m        text1.next_to(statement2, DOWN, buff = 4)\u001b[39m\u001b[38;5;130;01m\\n\u001b[39;00m\u001b[38;5;124m        self.play(Write(text1))\u001b[39m\u001b[38;5;130;01m\\n\u001b[39;00m\u001b[38;5;124m        self.wait(3)\u001b[39m\u001b[38;5;130;01m\\n\u001b[39;00m\u001b[38;5;130;01m\\n\u001b[39;00m\u001b[38;5;124m        #Finding ADJ\u001b[39m\u001b[38;5;130;01m\\n\u001b[39;00m\u001b[38;5;124m        statement3 = Text(\u001b[39m\u001b[38;5;124m\"\u001b[39m\u001b[38;5;124mLet ADJ = a\u001b[39m\u001b[38;5;124m\"\u001b[39m\u001b[38;5;124m,  font_size=30, t2c=\u001b[39m\u001b[38;5;124m{\u001b[39m\u001b[38;5;124m\"\u001b[39m\u001b[38;5;124mADJ\u001b[39m\u001b[38;5;124m\"\u001b[39m\u001b[38;5;124m: YELLOW})\u001b[39m\u001b[38;5;130;01m\\n\u001b[39;00m\u001b[38;5;124m        statement3.next_to(text1, DOWN)\u001b[39m\u001b[38;5;130;01m\\n\u001b[39;00m\u001b[38;5;124m        self.play(Write(statement3))\u001b[39m\u001b[38;5;130;01m\\n\u001b[39;00m\u001b[38;5;124m        self.wait(2)\u001b[39m\u001b[38;5;130;01m\\n\u001b[39;00m\u001b[38;5;124m        \u001b[39m\u001b[38;5;130;01m\\n\u001b[39;00m\u001b[38;5;124m        Formula1 = MathTex(\u001b[39m\u001b[38;5;124m\"\u001b[39m\u001b[38;5;124ma^2 = 1^2 - x^2\u001b[39m\u001b[38;5;124m\"\u001b[39m\u001b[38;5;124m)\u001b[39m\u001b[38;5;130;01m\\n\u001b[39;00m\u001b[38;5;124m        Formula1.next_to(statement3, DOWN)\u001b[39m\u001b[38;5;130;01m\\n\u001b[39;00m\u001b[38;5;124m        self.play(Write(Formula1))\u001b[39m\u001b[38;5;130;01m\\n\u001b[39;00m\u001b[38;5;124m        self.wait(3)\u001b[39m\u001b[38;5;130;01m\\n\u001b[39;00m\u001b[38;5;124m        \u001b[39m\u001b[38;5;130;01m\\n\u001b[39;00m\u001b[38;5;124m        # List of objects you want to keep\u001b[39m\u001b[38;5;130;01m\\n\u001b[39;00m\u001b[38;5;124m        keep_visible = [label, statement3, Formula1]\u001b[39m\u001b[38;5;130;01m\\n\u001b[39;00m\u001b[38;5;124m        \u001b[39m\u001b[38;5;130;01m\\n\u001b[39;00m\u001b[38;5;124m        # Fade out everything except those\u001b[39m\u001b[38;5;130;01m\\n\u001b[39;00m\u001b[38;5;124m        objects_to_fade = [m for m in self.mobjects if m not in keep_visible]\u001b[39m\u001b[38;5;130;01m\\n\u001b[39;00m\u001b[38;5;124m        \u001b[39m\u001b[38;5;130;01m\\n\u001b[39;00m\u001b[38;5;124m        # Play fade out animation\u001b[39m\u001b[38;5;130;01m\\n\u001b[39;00m\u001b[38;5;124m        self.play(*[FadeOut(m) for m in objects_to_fade])\u001b[39m\u001b[38;5;130;01m\\n\u001b[39;00m\u001b[38;5;124m        self.wait()\u001b[39m\u001b[38;5;130;01m\\n\u001b[39;00m\u001b[38;5;130;01m\\n\u001b[39;00m\u001b[38;5;124m        self.play(\u001b[39m\u001b[38;5;130;01m\\n\u001b[39;00m\u001b[38;5;124m            statement3.animate.shift(UP * 6),\u001b[39m\u001b[38;5;130;01m\\n\u001b[39;00m\u001b[38;5;124m            Formula1.animate.shift(UP * 5.7)\u001b[39m\u001b[38;5;130;01m\\n\u001b[39;00m\u001b[38;5;124m        )\u001b[39m\u001b[38;5;130;01m\\n\u001b[39;00m\u001b[38;5;124m        self.wait() \u001b[39m\u001b[38;5;130;01m\\n\u001b[39;00m\u001b[38;5;130;01m\\n\u001b[39;00m\u001b[38;5;124m        Formula2 = MathTex(\u001b[39m\u001b[38;5;124m\"\u001b[39m\u001b[38;5;124ma = \u001b[39m\u001b[38;5;130;01m\\\\\u001b[39;00m\u001b[38;5;124msqrt\u001b[39m\u001b[38;5;124m{\u001b[39m\u001b[38;5;124m1^2 - x^2}\u001b[39m\u001b[38;5;124m\"\u001b[39m\u001b[38;5;124m)\u001b[39m\u001b[38;5;130;01m\\n\u001b[39;00m\u001b[38;5;124m        Formula2.next_to(Formula1, DOWN)\u001b[39m\u001b[38;5;130;01m\\n\u001b[39;00m\u001b[38;5;124m        self.play(Write(Formula2))\u001b[39m\u001b[38;5;130;01m\\n\u001b[39;00m\u001b[38;5;124m        self.wait()\u001b[39m\u001b[38;5;130;01m\\n\u001b[39;00m\u001b[38;5;130;01m\\n\u001b[39;00m\u001b[38;5;124m        statement4 = MathTex(r\u001b[39m\u001b[38;5;124m\"\u001b[39m\u001b[38;5;124mSo, \u001b[39m\u001b[38;5;124m\"\u001b[39m\u001b[38;5;124m,r\u001b[39m\u001b[38;5;124m\"\u001b[39m\u001b[38;5;130;01m\\\\\u001b[39;00m\u001b[38;5;124mtan(\u001b[39m\u001b[38;5;130;01m\\\\\u001b[39;00m\u001b[38;5;124mtheta) \u001b[39m\u001b[38;5;124m\"\u001b[39m\u001b[38;5;124m, r\u001b[39m\u001b[38;5;124m\"\u001b[39m\u001b[38;5;124m= \u001b[39m\u001b[38;5;124m\"\u001b[39m\u001b[38;5;124m, r\u001b[39m\u001b[38;5;124m\"\u001b[39m\u001b[38;5;130;01m\\\\\u001b[39;00m\u001b[38;5;124mfrac\u001b[39m\u001b[38;5;132;01m{x}\u001b[39;00m\u001b[38;5;124m{\u001b[39m\u001b[38;5;130;01m\\\\\u001b[39;00m\u001b[38;5;124msqrt\u001b[39m\u001b[38;5;124m{\u001b[39m\u001b[38;5;124m1-x^2}}\u001b[39m\u001b[38;5;124m\"\u001b[39m\u001b[38;5;124m)\u001b[39m\u001b[38;5;130;01m\\n\u001b[39;00m\u001b[38;5;124m        statement4.next_to(Formula2, DOWN)\u001b[39m\u001b[38;5;130;01m\\n\u001b[39;00m\u001b[38;5;124m        self.play(Write(statement4))\u001b[39m\u001b[38;5;130;01m\\n\u001b[39;00m\u001b[38;5;124m        self.wait(3)\u001b[39m\u001b[38;5;130;01m\\n\u001b[39;00m\u001b[38;5;124m        \u001b[39m\u001b[38;5;130;01m\\n\u001b[39;00m\u001b[38;5;124m        result = MathTex(r\u001b[39m\u001b[38;5;124m\"\u001b[39m\u001b[38;5;130;01m\\\\\u001b[39;00m\u001b[38;5;124mtan(\u001b[39m\u001b[38;5;130;01m\\\\\u001b[39;00m\u001b[38;5;124marcsin(x))\u001b[39m\u001b[38;5;124m\"\u001b[39m\u001b[38;5;124m, \u001b[39m\u001b[38;5;124m\"\u001b[39m\u001b[38;5;124m = \u001b[39m\u001b[38;5;124m\"\u001b[39m\u001b[38;5;124m, r\u001b[39m\u001b[38;5;124m\"\u001b[39m\u001b[38;5;130;01m\\\\\u001b[39;00m\u001b[38;5;124mfrac\u001b[39m\u001b[38;5;132;01m{x}\u001b[39;00m\u001b[38;5;124m{\u001b[39m\u001b[38;5;130;01m\\\\\u001b[39;00m\u001b[38;5;124msqrt\u001b[39m\u001b[38;5;124m{\u001b[39m\u001b[38;5;124m1-x^2}}\u001b[39m\u001b[38;5;124m\"\u001b[39m\u001b[38;5;124m)\u001b[39m\u001b[38;5;130;01m\\n\u001b[39;00m\u001b[38;5;124m        result.next_to(statement4, DOWN)\u001b[39m\u001b[38;5;130;01m\\n\u001b[39;00m\u001b[38;5;124m        self.play(Write(result))\u001b[39m\u001b[38;5;130;01m\\n\u001b[39;00m\u001b[38;5;124m        self.wait(2)\u001b[39m\u001b[38;5;130;01m\\n\u001b[39;00m\u001b[38;5;130;01m\\n\u001b[39;00m\u001b[38;5;130;01m\\n\u001b[39;00m\u001b[38;5;124m        #left_side = VGroup(\u001b[39m\u001b[38;5;130;01m\\n\u001b[39;00m\u001b[38;5;124m            #label,\u001b[39m\u001b[38;5;130;01m\\n\u001b[39;00m\u001b[38;5;124m            #step2,\u001b[39m\u001b[38;5;130;01m\\n\u001b[39;00m\u001b[38;5;124m            #step3,\u001b[39m\u001b[38;5;130;01m\\n\u001b[39;00m\u001b[38;5;124m            #question1,\u001b[39m\u001b[38;5;130;01m\\n\u001b[39;00m\u001b[38;5;124m            #step3_3\u001b[39m\u001b[38;5;130;01m\\n\u001b[39;00m\u001b[38;5;124m        #)\u001b[39m\u001b[38;5;130;01m\\n\u001b[39;00m\u001b[38;5;124m        #self.play(left_side.animate.shift(LEFT * 2))\u001b[39m\u001b[38;5;130;01m\\n\u001b[39;00m\u001b[38;5;124m        #self.wait(5)\u001b[39m\u001b[38;5;130;01m\\n\u001b[39;00m\u001b[38;5;124m'\u001b[39m)\n",
      "File \u001b[1;32m~\\anaconda3\\Lib\\site-packages\\IPython\\core\\interactiveshell.py:2541\u001b[0m, in \u001b[0;36mInteractiveShell.run_cell_magic\u001b[1;34m(self, magic_name, line, cell)\u001b[0m\n\u001b[0;32m   2539\u001b[0m \u001b[38;5;28;01mwith\u001b[39;00m \u001b[38;5;28mself\u001b[39m\u001b[38;5;241m.\u001b[39mbuiltin_trap:\n\u001b[0;32m   2540\u001b[0m     args \u001b[38;5;241m=\u001b[39m (magic_arg_s, cell)\n\u001b[1;32m-> 2541\u001b[0m     result \u001b[38;5;241m=\u001b[39m fn(\u001b[38;5;241m*\u001b[39margs, \u001b[38;5;241m*\u001b[39m\u001b[38;5;241m*\u001b[39mkwargs)\n\u001b[0;32m   2543\u001b[0m \u001b[38;5;66;03m# The code below prevents the output from being displayed\u001b[39;00m\n\u001b[0;32m   2544\u001b[0m \u001b[38;5;66;03m# when using magics with decorator @output_can_be_silenced\u001b[39;00m\n\u001b[0;32m   2545\u001b[0m \u001b[38;5;66;03m# when the last Python token in the expression is a ';'.\u001b[39;00m\n\u001b[0;32m   2546\u001b[0m \u001b[38;5;28;01mif\u001b[39;00m \u001b[38;5;28mgetattr\u001b[39m(fn, magic\u001b[38;5;241m.\u001b[39mMAGIC_OUTPUT_CAN_BE_SILENCED, \u001b[38;5;28;01mFalse\u001b[39;00m):\n",
      "File \u001b[1;32m~\\anaconda3\\Lib\\site-packages\\manim\\utils\\ipython_magic.py:165\u001b[0m, in \u001b[0;36mManimMagic.manim\u001b[1;34m(self, line, cell, local_ns)\u001b[0m\n\u001b[0;32m    158\u001b[0m tmpfile \u001b[38;5;241m=\u001b[39m (\n\u001b[0;32m    159\u001b[0m     Path(config[\u001b[38;5;124m\"\u001b[39m\u001b[38;5;124mmedia_dir\u001b[39m\u001b[38;5;124m\"\u001b[39m])\n\u001b[0;32m    160\u001b[0m     \u001b[38;5;241m/\u001b[39m \u001b[38;5;124m\"\u001b[39m\u001b[38;5;124mjupyter\u001b[39m\u001b[38;5;124m\"\u001b[39m\n\u001b[0;32m    161\u001b[0m     \u001b[38;5;241m/\u001b[39m \u001b[38;5;124mf\u001b[39m\u001b[38;5;124m\"\u001b[39m\u001b[38;5;132;01m{\u001b[39;00m_generate_file_name()\u001b[38;5;132;01m}\u001b[39;00m\u001b[38;5;132;01m{\u001b[39;00mlocal_path\u001b[38;5;241m.\u001b[39msuffix\u001b[38;5;132;01m}\u001b[39;00m\u001b[38;5;124m\"\u001b[39m\n\u001b[0;32m    162\u001b[0m )\n\u001b[0;32m    164\u001b[0m \u001b[38;5;28;01mif\u001b[39;00m local_path \u001b[38;5;129;01min\u001b[39;00m \u001b[38;5;28mself\u001b[39m\u001b[38;5;241m.\u001b[39mrendered_files:\n\u001b[1;32m--> 165\u001b[0m     \u001b[38;5;28mself\u001b[39m\u001b[38;5;241m.\u001b[39mrendered_files[local_path]\u001b[38;5;241m.\u001b[39munlink()\n\u001b[0;32m    166\u001b[0m \u001b[38;5;28mself\u001b[39m\u001b[38;5;241m.\u001b[39mrendered_files[local_path] \u001b[38;5;241m=\u001b[39m tmpfile\n\u001b[0;32m    167\u001b[0m tmpfile\u001b[38;5;241m.\u001b[39mparent\u001b[38;5;241m.\u001b[39mmkdir(parents\u001b[38;5;241m=\u001b[39m\u001b[38;5;28;01mTrue\u001b[39;00m, exist_ok\u001b[38;5;241m=\u001b[39m\u001b[38;5;28;01mTrue\u001b[39;00m)\n",
      "File \u001b[1;32m~\\anaconda3\\Lib\\pathlib\\_local.py:746\u001b[0m, in \u001b[0;36mPath.unlink\u001b[1;34m(self, missing_ok)\u001b[0m\n\u001b[0;32m    741\u001b[0m \u001b[38;5;250m\u001b[39m\u001b[38;5;124;03m\"\"\"\u001b[39;00m\n\u001b[0;32m    742\u001b[0m \u001b[38;5;124;03mRemove this file or link.\u001b[39;00m\n\u001b[0;32m    743\u001b[0m \u001b[38;5;124;03mIf the path is a directory, use rmdir() instead.\u001b[39;00m\n\u001b[0;32m    744\u001b[0m \u001b[38;5;124;03m\"\"\"\u001b[39;00m\n\u001b[0;32m    745\u001b[0m \u001b[38;5;28;01mtry\u001b[39;00m:\n\u001b[1;32m--> 746\u001b[0m     os\u001b[38;5;241m.\u001b[39munlink(\u001b[38;5;28mself\u001b[39m)\n\u001b[0;32m    747\u001b[0m \u001b[38;5;28;01mexcept\u001b[39;00m \u001b[38;5;167;01mFileNotFoundError\u001b[39;00m:\n\u001b[0;32m    748\u001b[0m     \u001b[38;5;28;01mif\u001b[39;00m \u001b[38;5;129;01mnot\u001b[39;00m missing_ok:\n",
      "\u001b[1;31mPermissionError\u001b[0m: [WinError 32] The process cannot access the file because it is being used by another process: 'media\\\\jupyter\\\\mathScene2@2025-08-06@12-21-02.mp4'"
     ]
    }
   ],
   "source": [
    "%%manim -r 1080,1920 -qm mathScene2\n",
    "config.pixel_width = 1080\n",
    "config.pixel_height = 1920\n",
    "config.frame_height = 16\n",
    "config.frame_width = 9\n",
    "\n",
    "class mathScene2(Scene):\n",
    "    def construct(self):\n",
    "        \n",
    "            \n",
    "        label = MathTex(r\"\\text{Simplify: }\", r\"\\tan(\\arcsin(x))\")\n",
    "\n",
    "        self.play(Write(label))\n",
    "        self.wait(10)\n",
    "\n",
    "        self.play(label.animate.shift(UP * 4))\n",
    "        #label.to_edge(UP)\n",
    "        self.wait()\n",
    "        \n",
    "        # Target the \\arcsin(x) inside label[1]\n",
    "        # Use MathTex to isolate arcsin(x) for accurate positioning\n",
    "        # Highlight arcsin(x) using a rectangle\n",
    "        arcsin_part = VGroup(*label[1][4:13])  # Adjust indices if needed\n",
    "        highlight_box = SurroundingRectangle(arcsin_part, color=YELLOW, buff=0.1)\n",
    "        self.play(Create(highlight_box))\n",
    "        self.wait(2)\n",
    "\n",
    "\n",
    "        # Show explanation: arcsin(x) = θ → sin(θ) = x\n",
    "        explain1 = MathTex(r\"\\arcsin(x) = \\theta\")\n",
    "        explain1.arrange(DOWN).next_to(highlight_box, DOWN)\n",
    "\n",
    "        self.play(Write(explain1))\n",
    "        self.wait(3)\n",
    "\n",
    "        explain2 = MathTex(r\"\\Rightarrow \\sin(\\theta) = x\")\n",
    "        explain2.next_to(explain1, DOWN)\n",
    "        self.play(Write(explain2))\n",
    "        self.wait(3)\n",
    "        \n",
    "        #STEP1\n",
    "        #step1 = MathTex(r\"\\theta = \\arcsin(x)\")\n",
    "        #step1.next_to(label, DOWN, buff=1.0)\n",
    "        #self.play(Write(step1))\n",
    "        #self.wait(5)\n",
    "\n",
    "        #step2 = MathTex(r\"\\sin(\\arcsin(x))\", \" = \", r\"\\sin(\\theta)\")\n",
    "        #step2.next_to(label, DOWN, buff = 1.0)\n",
    "        #self.play(TransformMatchingShapes(step1, step2))\n",
    "        #self.wait(3)\n",
    "\n",
    "        #step3 = MathTex(r\"\\sin(\\theta)\", r\" = \", r\"x\" )\n",
    "        #step3.next_to(step2, DOWN)\n",
    "        #self.play(Write(step3))\n",
    "        #self.wait(5)\n",
    "        \n",
    "        #step3.1 = MathTex(r\"x\", r\" = \",r\"\\sin(\\theta)\")\n",
    "        #step3.1.next_to(step1, DOWN)\n",
    "        #self.play(TransformMatchingShapes(step3, step3.1))\n",
    "        #self.wait(3)\n",
    "\n",
    "        question1 = MathTex(r\"\\text{If }\", r\"\\sin(\\theta) = x\", \", \", r\"\\text{What is}\", r\"\\tan(\\theta)? \")\n",
    "        question1.set_color_by_tex(r\"\\sin(\\theta) = x\", GREEN)\n",
    "        question1.set_color_by_tex(r\"\\tan(\\theta)\", RED)\n",
    "        question1.next_to(label, DOWN, buff = 4)\n",
    "        self.play(Write(question1))\n",
    "        self.wait(3)\n",
    "\n",
    "        statement = Text(\"Recall the pythagorean theorem \", font_size=30)\n",
    "        statement.next_to(question1, DOWN)\n",
    "        self.play(Write(statement))\n",
    "        self.wait()\n",
    "\n",
    "        step3_1 = MathTex(r\"\\sin(\\theta)\", r\" = \", r\"x\")\n",
    "        step3_1.next_to(statement, DOWN)\n",
    "        self.play(Write(step3_1))\n",
    "        self.wait()\n",
    "\n",
    "        step3_2 = MathTex(r\"\\sin(\\theta)\", r\" = \", r\"\\frac{x}{1}\")\n",
    "        step3_2.set_color_by_tex(r\"\\frac{x}{1}\", GREEN)\n",
    "        step3_2.next_to(statement, DOWN)\n",
    "        self.play(TransformMatchingShapes(step3_1,step3_2))\n",
    "        self.wait(3)\n",
    "\n",
    "        step3_3 = MathTex(r\"\\sin(\\theta)\", r\" = \", r\"\\frac{x}{1}\", r\" = \", r\"\\frac{OPP}{HYP}\")\n",
    "        step3_3.set_color_by_tex(r\"\\frac{OPP}{HYP}\", YELLOW)\n",
    "        step3_3.next_to(statement, DOWN)\n",
    "        self.play(TransformMatchingShapes(step3_2,step3_3))\n",
    "        self.wait(3)\n",
    "\n",
    "        objects_to_fade = [m for m in self.mobjects if m != label]\n",
    "        self.play(*[FadeOut(m) for m in objects_to_fade])\n",
    "        self.wait()\n",
    "\n",
    "        statement2 = Text(\"(SOH CAH TOA)\", font_size=30)\n",
    "        statement2.next_to(label, DOWN, buff = 1.5 )\n",
    "        self.play(Write(statement2))\n",
    "        self.wait()\n",
    "\n",
    "        #Insert triangle here\n",
    "        # Right-angled triangle with labels\n",
    "       # Right-angled triangle with labels\n",
    "        shift = DOWN * 1  # shift the whole triangle downward\n",
    "\n",
    "        A = ORIGIN + shift\n",
    "        B = A + 3 * RIGHT\n",
    "        C = A + 2 * UP\n",
    "\n",
    "        triangle = Polygon(A, B, C, color=BLUE)\n",
    "        self.play(Create(triangle))\n",
    "\n",
    "        # Label the triangle sides\n",
    "        hyp = MathTex(\"HYP\").move_to((B + C) / 2 + UP * 0.6)\n",
    "        adj = MathTex(\"ADJ\").move_to((A + B) / 2 + DOWN * 0.3)\n",
    "        opp = MathTex(\"OPP\").move_to((A + C) / 2 + LEFT * 0.6)\n",
    "        self.play(Write(opp), Write(adj), Write(hyp))\n",
    "\n",
    "        # Mark the right angle\n",
    "        right_angle = Square(0.3, color=BLUE)\n",
    "        right_angle.move_to(A + UR * 0.15)\n",
    "        self.play(Create(right_angle))\n",
    "        self.wait(2)\n",
    "\n",
    "        # Define updated side labels\n",
    "        hyp2 = MathTex(\"HYP = 1\").move_to((B + C) / 2 + UP * 0.9)\n",
    "        adj2 = MathTex(\"ADJ =\", r\" ?\").move_to((A + B) / 2 + DOWN * 0.3)\n",
    "        opp2 = MathTex(\"OPP = x\").move_to((A + C) / 2 + LEFT * 1.2)\n",
    "        \n",
    "        # Animate the transformation for each one\n",
    "        self.play(\n",
    "            TransformMatchingShapes(hyp, hyp2),\n",
    "            TransformMatchingShapes(adj, adj2),\n",
    "            TransformMatchingShapes(opp, opp2)\n",
    "        )\n",
    "        self.wait(3)\n",
    "\n",
    "        text1 = MathTex(r\"\\tan(\\theta)\", r\" = \", r\"\\frac{OPP}{ADJ}\")\n",
    "        text1.set_color_by_tex(r\"\\frac{OPP}{ADJ}\", YELLOW)\n",
    "        text1.next_to(statement2, DOWN, buff = 4)\n",
    "        self.play(Write(text1))\n",
    "        self.wait(3)\n",
    "\n",
    "        #Finding ADJ\n",
    "        statement3 = Text(\"Let ADJ = a\",  font_size=30, t2c={\"ADJ\": YELLOW})\n",
    "        statement3.next_to(text1, DOWN)\n",
    "        self.play(Write(statement3))\n",
    "        self.wait(2)\n",
    "        \n",
    "        Formula1 = MathTex(\"a^2 = 1^2 - x^2\")\n",
    "        Formula1.next_to(statement3, DOWN)\n",
    "        self.play(Write(Formula1))\n",
    "        self.wait(3)\n",
    "        \n",
    "        # List of objects you want to keep\n",
    "        keep_visible = [label, statement3, Formula1]\n",
    "        \n",
    "        # Fade out everything except those\n",
    "        objects_to_fade = [m for m in self.mobjects if m not in keep_visible]\n",
    "        \n",
    "        # Play fade out animation\n",
    "        self.play(*[FadeOut(m) for m in objects_to_fade])\n",
    "        self.wait()\n",
    "\n",
    "        self.play(\n",
    "            statement3.animate.shift(UP * 6),\n",
    "            Formula1.animate.shift(UP * 5.7)\n",
    "        )\n",
    "        self.wait() \n",
    "\n",
    "        Formula2 = MathTex(\"a = \\sqrt{1^2 - x^2}\")\n",
    "        Formula2.next_to(Formula1, DOWN)\n",
    "        self.play(Write(Formula2))\n",
    "        self.wait()\n",
    "\n",
    "        statement4 = MathTex(r\"So, \",r\"\\tan(\\theta) \", r\"= \", r\"\\frac{x}{\\sqrt{1-x^2}}\")\n",
    "        statement4.next_to(Formula2, DOWN)\n",
    "        self.play(Write(statement4))\n",
    "        self.wait(3)\n",
    "        \n",
    "        result = MathTex(r\"\\tan(\\arcsin(x))\", \" = \", r\"\\frac{x}{\\sqrt{1-x^2}}\")\n",
    "        result.next_to(statement4, DOWN)\n",
    "        self.play(Write(result))\n",
    "        self.wait(2)\n",
    "\n",
    "\n",
    "        #left_side = VGroup(\n",
    "            #label,\n",
    "            #step2,\n",
    "            #step3,\n",
    "            #question1,\n",
    "            #step3_3\n",
    "        #)\n",
    "        #self.play(left_side.animate.shift(LEFT * 2))\n",
    "        #self.wait(5)"
   ]
  },
  {
   "cell_type": "markdown",
   "id": "68b8cbef-9317-4dc8-8f7d-720b6de352ba",
   "metadata": {},
   "source": []
  }
 ],
 "metadata": {
  "kernelspec": {
   "display_name": "Python [conda env:base] *",
   "language": "python",
   "name": "conda-base-py"
  },
  "language_info": {
   "codemirror_mode": {
    "name": "ipython",
    "version": 3
   },
   "file_extension": ".py",
   "mimetype": "text/x-python",
   "name": "python",
   "nbconvert_exporter": "python",
   "pygments_lexer": "ipython3",
   "version": "3.13.5"
  }
 },
 "nbformat": 4,
 "nbformat_minor": 5
}
