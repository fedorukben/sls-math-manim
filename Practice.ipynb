{
 "cells": [
  {
   "cell_type": "markdown",
   "id": "20cd3dd8-b754-4203-8bcb-cfa43988790e",
   "metadata": {},
   "source": [
    "This is a new notebook\n"
   ]
  },
  {
   "cell_type": "markdown",
   "id": "ac58bb01-5d2b-4a76-898c-5ce76d86efc4",
   "metadata": {},
   "source": [
    "This notebook is reserved for practice"
   ]
  },
  {
   "cell_type": "code",
   "execution_count": 3,
   "id": "7874a9b9-1fe9-4f75-b238-eda4198ad23a",
   "metadata": {},
   "outputs": [
    {
     "name": "stdout",
     "output_type": "stream",
     "text": [
      "Requirement already satisfied: manim in c:\\users\\mayod\\anaconda3\\lib\\site-packages (0.19.0)\n",
      "Requirement already satisfied: Pillow>=9.1 in c:\\users\\mayod\\anaconda3\\lib\\site-packages (from manim) (11.1.0)\n",
      "Requirement already satisfied: Pygments>=2.0.0 in c:\\users\\mayod\\anaconda3\\lib\\site-packages (from manim) (2.19.1)\n",
      "Requirement already satisfied: audioop-lts>=0.2.0 in c:\\users\\mayod\\anaconda3\\lib\\site-packages (from manim) (0.2.1)\n",
      "Requirement already satisfied: av<14.0.0,>=9.0.0 in c:\\users\\mayod\\anaconda3\\lib\\site-packages (from manim) (13.1.0)\n",
      "Requirement already satisfied: beautifulsoup4>=4.12 in c:\\users\\mayod\\anaconda3\\lib\\site-packages (from manim) (4.12.3)\n",
      "Requirement already satisfied: click>=8.0 in c:\\users\\mayod\\anaconda3\\lib\\site-packages (from manim) (8.1.8)\n",
      "Requirement already satisfied: cloup>=2.0.0 in c:\\users\\mayod\\anaconda3\\lib\\site-packages (from manim) (3.0.7)\n",
      "Requirement already satisfied: decorator>=4.3.2 in c:\\users\\mayod\\anaconda3\\lib\\site-packages (from manim) (5.1.1)\n",
      "Requirement already satisfied: isosurfaces>=0.1.0 in c:\\users\\mayod\\anaconda3\\lib\\site-packages (from manim) (0.1.2)\n",
      "Requirement already satisfied: manimpango<1.0.0,>=0.5.0 in c:\\users\\mayod\\anaconda3\\lib\\site-packages (from manim) (0.6.0)\n",
      "Requirement already satisfied: mapbox-earcut>=1.0.0 in c:\\users\\mayod\\anaconda3\\lib\\site-packages (from manim) (1.0.3)\n",
      "Requirement already satisfied: moderngl<6.0.0,>=5.0.0 in c:\\users\\mayod\\anaconda3\\lib\\site-packages (from manim) (5.12.0)\n",
      "Requirement already satisfied: moderngl-window>=2.0.0 in c:\\users\\mayod\\anaconda3\\lib\\site-packages (from manim) (3.1.1)\n",
      "Requirement already satisfied: networkx>=2.6 in c:\\users\\mayod\\anaconda3\\lib\\site-packages (from manim) (3.4.2)\n",
      "Requirement already satisfied: numpy>=2.1 in c:\\users\\mayod\\anaconda3\\lib\\site-packages (from manim) (2.1.3)\n",
      "Requirement already satisfied: pycairo<2.0.0,>=1.13 in c:\\users\\mayod\\anaconda3\\lib\\site-packages (from manim) (1.28.0)\n",
      "Requirement already satisfied: pydub>=0.20.0 in c:\\users\\mayod\\anaconda3\\lib\\site-packages (from manim) (0.25.1)\n",
      "Requirement already satisfied: rich>=12.0.0 in c:\\users\\mayod\\anaconda3\\lib\\site-packages (from manim) (13.9.4)\n",
      "Requirement already satisfied: scipy>=1.14.0 in c:\\users\\mayod\\anaconda3\\lib\\site-packages (from manim) (1.15.3)\n",
      "Requirement already satisfied: screeninfo>=0.7 in c:\\users\\mayod\\anaconda3\\lib\\site-packages (from manim) (0.8.1)\n",
      "Requirement already satisfied: skia-pathops>=0.7.0 in c:\\users\\mayod\\anaconda3\\lib\\site-packages (from manim) (0.8.0.post2)\n",
      "Requirement already satisfied: srt>=3.0.0 in c:\\users\\mayod\\anaconda3\\lib\\site-packages (from manim) (3.5.3)\n",
      "Requirement already satisfied: svgelements>=1.8.0 in c:\\users\\mayod\\anaconda3\\lib\\site-packages (from manim) (1.9.6)\n",
      "Requirement already satisfied: tqdm>=4.0.0 in c:\\users\\mayod\\anaconda3\\lib\\site-packages (from manim) (4.67.1)\n",
      "Requirement already satisfied: typing-extensions>=4.0.0 in c:\\users\\mayod\\anaconda3\\lib\\site-packages (from manim) (4.12.2)\n",
      "Requirement already satisfied: watchdog>=2.0.0 in c:\\users\\mayod\\anaconda3\\lib\\site-packages (from manim) (4.0.2)\n",
      "Requirement already satisfied: glcontext>=3.0.0 in c:\\users\\mayod\\anaconda3\\lib\\site-packages (from moderngl<6.0.0,>=5.0.0->manim) (3.0.0)\n",
      "Requirement already satisfied: soupsieve>1.2 in c:\\users\\mayod\\anaconda3\\lib\\site-packages (from beautifulsoup4>=4.12->manim) (2.5)\n",
      "Requirement already satisfied: colorama in c:\\users\\mayod\\anaconda3\\lib\\site-packages (from click>=8.0->manim) (0.4.6)\n",
      "Requirement already satisfied: pyglet>=2.0.0 in c:\\users\\mayod\\anaconda3\\lib\\site-packages (from moderngl-window>=2.0.0->manim) (2.1.6)\n",
      "Requirement already satisfied: pyglm<3,>=2.7.0 in c:\\users\\mayod\\anaconda3\\lib\\site-packages (from moderngl-window>=2.0.0->manim) (2.8.2)\n",
      "Requirement already satisfied: markdown-it-py>=2.2.0 in c:\\users\\mayod\\anaconda3\\lib\\site-packages (from rich>=12.0.0->manim) (2.2.0)\n",
      "Requirement already satisfied: mdurl~=0.1 in c:\\users\\mayod\\anaconda3\\lib\\site-packages (from markdown-it-py>=2.2.0->rich>=12.0.0->manim) (0.1.0)\n",
      "Note: you may need to restart the kernel to use updated packages.\n"
     ]
    }
   ],
   "source": [
    "%pip install manim"
   ]
  },
  {
   "cell_type": "code",
   "execution_count": 4,
   "id": "75bf1c22-d848-4d87-9b53-4f94261e4175",
   "metadata": {},
   "outputs": [
    {
     "name": "stderr",
     "output_type": "stream",
     "text": [
      "C:\\Users\\mayod\\anaconda3\\Lib\\site-packages\\pydub\\utils.py:170: RuntimeWarning: Couldn't find ffmpeg or avconv - defaulting to ffmpeg, but may not work\n",
      "  warn(\"Couldn't find ffmpeg or avconv - defaulting to ffmpeg, but may not work\", RuntimeWarning)\n"
     ]
    },
    {
     "name": "stdout",
     "output_type": "stream",
     "text": [
      "0.19.0\n"
     ]
    }
   ],
   "source": [
    "import manim as mn\n",
    "from manim import *\n",
    "\n",
    "config.media_width = \"75%\"\n",
    "config.verbosity = \"WARNING\"\n",
    "print(mn.__version__)"
   ]
  },
  {
   "cell_type": "code",
   "execution_count": 11,
   "id": "5829b848-7f35-4161-b7bb-baae6b4733e0",
   "metadata": {},
   "outputs": [
    {
     "data": {
      "text/html": [
       "<pre style=\"white-space:pre;overflow-x:auto;line-height:normal;font-family:Menlo,'DejaVu Sans Mono',consolas,'Courier New',monospace\">Manim Community <span style=\"color: #008000; text-decoration-color: #008000\">v0.19.0</span>\n",
       "\n",
       "</pre>\n"
      ],
      "text/plain": [
       "Manim Community \u001b[32mv0.\u001b[0m\u001b[32m19.0\u001b[0m\n",
       "\n"
      ]
     },
     "metadata": {},
     "output_type": "display_data"
    },
    {
     "name": "stderr",
     "output_type": "stream",
     "text": [
      "                                                                  "
     ]
    },
    {
     "data": {
      "text/html": [
       "<video src=\"media\\jupyter\\CircleToSquare@2025-07-09@13-08-34.mp4\" controls autoplay loop style=\"max-width: 75%;\"  >\n",
       "      Your browser does not support the <code>video</code> element.\n",
       "    </video>"
      ],
      "text/plain": [
       "<IPython.core.display.Video object>"
      ]
     },
     "metadata": {},
     "output_type": "display_data"
    }
   ],
   "source": [
    "%%manim -qm CircleToSquare\n",
    "\n",
    "class CircleToSquare(Scene):\n",
    "    def construct(self):\n",
    "        circle = Circle(color = BLUE, fill_opacity = 1)\n",
    "        self.play(Create(circle))\n",
    "        self.wait"
   ]
  },
  {
   "cell_type": "code",
   "execution_count": 1,
   "id": "f60d0fec-84d0-4f25-b307-b820b19326b3",
   "metadata": {},
   "outputs": [
    {
     "name": "stderr",
     "output_type": "stream",
     "text": [
      "UsageError: Cell magic `%%manim` not found.\n"
     ]
    }
   ],
   "source": [
    "%%manim -qm NewScene\n",
    "\n",
    "class NewScene(Scene):\n",
    "    def construct(self):\n",
    "        blue_circle = Circle(color=RED, fill_opacity=0.5)\n",
    "        green_square = Square(color=GREEN, fill_opacity=0.8)\n",
    "        self.play(Create(blue_circle))\n",
    "        self.wait()\n",
    "        \n",
    "        self.play(Transform(blue_circle, green_square))\n",
    "        self.wait()"
   ]
  },
  {
   "cell_type": "code",
   "execution_count": 9,
   "id": "4f8e64a2-470a-42b8-9a93-28592a6d450b",
   "metadata": {},
   "outputs": [
    {
     "data": {
      "text/html": [
       "<pre style=\"white-space:pre;overflow-x:auto;line-height:normal;font-family:Menlo,'DejaVu Sans Mono',consolas,'Courier New',monospace\">Manim Community <span style=\"color: #008000; text-decoration-color: #008000\">v0.19.0</span>\n",
       "\n",
       "</pre>\n"
      ],
      "text/plain": [
       "Manim Community \u001b[32mv0.\u001b[0m\u001b[32m19.0\u001b[0m\n",
       "\n"
      ]
     },
     "metadata": {},
     "output_type": "display_data"
    },
    {
     "name": "stderr",
     "output_type": "stream",
     "text": [
      "                                                                                           "
     ]
    },
    {
     "data": {
      "text/html": [
       "<video src=\"media\\jupyter\\mathScene@2025-07-09@09-38-01.mp4\" controls autoplay loop style=\"max-width: 75%;\"  >\n",
       "      Your browser does not support the <code>video</code> element.\n",
       "    </video>"
      ],
      "text/plain": [
       "<IPython.core.display.Video object>"
      ]
     },
     "metadata": {},
     "output_type": "display_data"
    }
   ],
   "source": [
    "%%manim -qm mathScene\n",
    "\n",
    "class mathScene(Scene):\n",
    "    def construct(self):\n",
    "        label = Text(\"Simplify: tan(arcsin(x))\")\n",
    "\n",
    "        self.play(Write(label))\n",
    "        self.wait(3)"
   ]
  },
  {
   "cell_type": "code",
   "execution_count": null,
   "id": "eccc4315-bebd-41e2-b950-9e7b7361e253",
   "metadata": {},
   "outputs": [],
   "source": []
  }
 ],
 "metadata": {
  "kernelspec": {
   "display_name": "Python [conda env:base] *",
   "language": "python",
   "name": "conda-base-py"
  },
  "language_info": {
   "codemirror_mode": {
    "name": "ipython",
    "version": 3
   },
   "file_extension": ".py",
   "mimetype": "text/x-python",
   "name": "python",
   "nbconvert_exporter": "python",
   "pygments_lexer": "ipython3",
   "version": "3.13.5"
  }
 },
 "nbformat": 4,
 "nbformat_minor": 5
}
