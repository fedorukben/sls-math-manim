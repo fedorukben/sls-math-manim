{
 "cells": [
  {
   "cell_type": "markdown",
   "id": "20cd3dd8-b754-4203-8bcb-cfa43988790e",
   "metadata": {},
   "source": [
    "This is a new notebook\n"
   ]
  },
  {
   "cell_type": "markdown",
   "id": "ac58bb01-5d2b-4a76-898c-5ce76d86efc4",
   "metadata": {},
   "source": [
    "This notebook is reserved for practice"
   ]
  },
  {
   "cell_type": "code",
   "execution_count": 1,
   "id": "7874a9b9-1fe9-4f75-b238-eda4198ad23a",
   "metadata": {},
   "outputs": [
    {
     "name": "stdout",
     "output_type": "stream",
     "text": [
      "Requirement already satisfied: manim in c:\\users\\mayod\\anaconda3\\lib\\site-packages (0.19.0)\n",
      "Requirement already satisfied: Pillow>=9.1 in c:\\users\\mayod\\anaconda3\\lib\\site-packages (from manim) (11.1.0)\n",
      "Requirement already satisfied: Pygments>=2.0.0 in c:\\users\\mayod\\anaconda3\\lib\\site-packages (from manim) (2.19.1)\n",
      "Requirement already satisfied: audioop-lts>=0.2.0 in c:\\users\\mayod\\anaconda3\\lib\\site-packages (from manim) (0.2.1)\n",
      "Requirement already satisfied: av<14.0.0,>=9.0.0 in c:\\users\\mayod\\anaconda3\\lib\\site-packages (from manim) (13.1.0)\n",
      "Requirement already satisfied: beautifulsoup4>=4.12 in c:\\users\\mayod\\anaconda3\\lib\\site-packages (from manim) (4.12.3)\n",
      "Requirement already satisfied: click>=8.0 in c:\\users\\mayod\\anaconda3\\lib\\site-packages (from manim) (8.1.8)\n",
      "Requirement already satisfied: cloup>=2.0.0 in c:\\users\\mayod\\anaconda3\\lib\\site-packages (from manim) (3.0.7)\n",
      "Requirement already satisfied: decorator>=4.3.2 in c:\\users\\mayod\\anaconda3\\lib\\site-packages (from manim) (5.1.1)\n",
      "Requirement already satisfied: isosurfaces>=0.1.0 in c:\\users\\mayod\\anaconda3\\lib\\site-packages (from manim) (0.1.2)\n",
      "Requirement already satisfied: manimpango<1.0.0,>=0.5.0 in c:\\users\\mayod\\anaconda3\\lib\\site-packages (from manim) (0.6.0)\n",
      "Requirement already satisfied: mapbox-earcut>=1.0.0 in c:\\users\\mayod\\anaconda3\\lib\\site-packages (from manim) (1.0.3)\n",
      "Requirement already satisfied: moderngl<6.0.0,>=5.0.0 in c:\\users\\mayod\\anaconda3\\lib\\site-packages (from manim) (5.12.0)\n",
      "Requirement already satisfied: moderngl-window>=2.0.0 in c:\\users\\mayod\\anaconda3\\lib\\site-packages (from manim) (3.1.1)\n",
      "Requirement already satisfied: networkx>=2.6 in c:\\users\\mayod\\anaconda3\\lib\\site-packages (from manim) (3.4.2)\n",
      "Requirement already satisfied: numpy>=2.1 in c:\\users\\mayod\\anaconda3\\lib\\site-packages (from manim) (2.1.3)\n",
      "Requirement already satisfied: pycairo<2.0.0,>=1.13 in c:\\users\\mayod\\anaconda3\\lib\\site-packages (from manim) (1.28.0)\n",
      "Requirement already satisfied: pydub>=0.20.0 in c:\\users\\mayod\\anaconda3\\lib\\site-packages (from manim) (0.25.1)\n",
      "Requirement already satisfied: rich>=12.0.0 in c:\\users\\mayod\\anaconda3\\lib\\site-packages (from manim) (13.9.4)\n",
      "Requirement already satisfied: scipy>=1.14.0 in c:\\users\\mayod\\anaconda3\\lib\\site-packages (from manim) (1.15.3)\n",
      "Requirement already satisfied: screeninfo>=0.7 in c:\\users\\mayod\\anaconda3\\lib\\site-packages (from manim) (0.8.1)\n",
      "Requirement already satisfied: skia-pathops>=0.7.0 in c:\\users\\mayod\\anaconda3\\lib\\site-packages (from manim) (0.8.0.post2)\n",
      "Requirement already satisfied: srt>=3.0.0 in c:\\users\\mayod\\anaconda3\\lib\\site-packages (from manim) (3.5.3)\n",
      "Requirement already satisfied: svgelements>=1.8.0 in c:\\users\\mayod\\anaconda3\\lib\\site-packages (from manim) (1.9.6)\n",
      "Requirement already satisfied: tqdm>=4.0.0 in c:\\users\\mayod\\anaconda3\\lib\\site-packages (from manim) (4.67.1)\n",
      "Requirement already satisfied: typing-extensions>=4.0.0 in c:\\users\\mayod\\anaconda3\\lib\\site-packages (from manim) (4.12.2)\n",
      "Requirement already satisfied: watchdog>=2.0.0 in c:\\users\\mayod\\anaconda3\\lib\\site-packages (from manim) (4.0.2)\n",
      "Requirement already satisfied: glcontext>=3.0.0 in c:\\users\\mayod\\anaconda3\\lib\\site-packages (from moderngl<6.0.0,>=5.0.0->manim) (3.0.0)\n",
      "Requirement already satisfied: soupsieve>1.2 in c:\\users\\mayod\\anaconda3\\lib\\site-packages (from beautifulsoup4>=4.12->manim) (2.5)\n",
      "Requirement already satisfied: colorama in c:\\users\\mayod\\anaconda3\\lib\\site-packages (from click>=8.0->manim) (0.4.6)\n",
      "Requirement already satisfied: pyglet>=2.0.0 in c:\\users\\mayod\\anaconda3\\lib\\site-packages (from moderngl-window>=2.0.0->manim) (2.1.6)\n",
      "Requirement already satisfied: pyglm<3,>=2.7.0 in c:\\users\\mayod\\anaconda3\\lib\\site-packages (from moderngl-window>=2.0.0->manim) (2.8.2)\n",
      "Requirement already satisfied: markdown-it-py>=2.2.0 in c:\\users\\mayod\\anaconda3\\lib\\site-packages (from rich>=12.0.0->manim) (2.2.0)\n",
      "Requirement already satisfied: mdurl~=0.1 in c:\\users\\mayod\\anaconda3\\lib\\site-packages (from markdown-it-py>=2.2.0->rich>=12.0.0->manim) (0.1.0)\n",
      "Note: you may need to restart the kernel to use updated packages.\n"
     ]
    }
   ],
   "source": [
    "%pip install manim"
   ]
  },
  {
   "cell_type": "code",
   "execution_count": 2,
   "id": "75bf1c22-d848-4d87-9b53-4f94261e4175",
   "metadata": {},
   "outputs": [
    {
     "name": "stderr",
     "output_type": "stream",
     "text": [
      "C:\\Users\\mayod\\anaconda3\\Lib\\site-packages\\pydub\\utils.py:170: RuntimeWarning: Couldn't find ffmpeg or avconv - defaulting to ffmpeg, but may not work\n",
      "  warn(\"Couldn't find ffmpeg or avconv - defaulting to ffmpeg, but may not work\", RuntimeWarning)\n"
     ]
    },
    {
     "name": "stdout",
     "output_type": "stream",
     "text": [
      "0.19.0\n"
     ]
    }
   ],
   "source": [
    "import manim as mn\n",
    "from manim import *\n",
    "\n",
    "config.media_width = \"75%\"\n",
    "config.verbosity = \"WARNING\"\n",
    "print(mn.__version__)"
   ]
  },
  {
   "cell_type": "code",
   "execution_count": 4,
   "id": "5829b848-7f35-4161-b7bb-baae6b4733e0",
   "metadata": {},
   "outputs": [
    {
     "data": {
      "text/html": [
       "<pre style=\"white-space:pre;overflow-x:auto;line-height:normal;font-family:Menlo,'DejaVu Sans Mono',consolas,'Courier New',monospace\">Manim Community <span style=\"color: #008000; text-decoration-color: #008000\">v0.19.0</span>\n",
       "\n",
       "</pre>\n"
      ],
      "text/plain": [
       "Manim Community \u001b[32mv0.\u001b[0m\u001b[32m19.0\u001b[0m\n",
       "\n"
      ]
     },
     "metadata": {},
     "output_type": "display_data"
    },
    {
     "name": "stderr",
     "output_type": "stream",
     "text": [
      "                                                                            "
     ]
    },
    {
     "data": {
      "text/html": [
       "<video src=\"media\\jupyter\\CircleToSquare@2025-07-23@15-17-29.mp4\" controls autoplay loop style=\"max-width: 75%;\"  >\n",
       "      Your browser does not support the <code>video</code> element.\n",
       "    </video>"
      ],
      "text/plain": [
       "<IPython.core.display.Video object>"
      ]
     },
     "metadata": {},
     "output_type": "display_data"
    }
   ],
   "source": [
    "%%manim -qm CircleToSquare\n",
    "\n",
    "class CircleToSquare(Scene):\n",
    "    def construct(self):\n",
    "        circle = Circle(color = BLUE, fill_opacity = 1)\n",
    "        self.play(Create(circle))\n",
    "        self.wait"
   ]
  },
  {
   "cell_type": "code",
   "execution_count": 17,
   "id": "f60d0fec-84d0-4f25-b307-b820b19326b3",
   "metadata": {},
   "outputs": [
    {
     "data": {
      "text/html": [
       "<pre style=\"white-space:pre;overflow-x:auto;line-height:normal;font-family:Menlo,'DejaVu Sans Mono',consolas,'Courier New',monospace\">Manim Community <span style=\"color: #008000; text-decoration-color: #008000\">v0.19.0</span>\n",
       "\n",
       "</pre>\n"
      ],
      "text/plain": [
       "Manim Community \u001b[32mv0.\u001b[0m\u001b[32m19.0\u001b[0m\n",
       "\n"
      ]
     },
     "metadata": {},
     "output_type": "display_data"
    },
    {
     "name": "stderr",
     "output_type": "stream",
     "text": [
      "                                                                     "
     ]
    },
    {
     "data": {
      "text/html": [
       "<video src=\"media\\jupyter\\NewScene@2025-07-08@15-04-27.mp4\" controls autoplay loop style=\"max-width: 75%;\"  >\n",
       "      Your browser does not support the <code>video</code> element.\n",
       "    </video>"
      ],
      "text/plain": [
       "<IPython.core.display.Video object>"
      ]
     },
     "metadata": {},
     "output_type": "display_data"
    }
   ],
   "source": [
    "%%manim -qm NewScene\n",
    "\n",
    "class NewScene(Scene):\n",
    "    def construct(self):\n",
    "        blue_circle = Circle(color=BLUE, fill_opacity=0.5)\n",
    "        green_square = Square(color=GREEN, fill_opacity=0.8)\n",
    "        self.play(Create(blue_circle))\n",
    "        self.wait()\n",
    "        \n",
    "        self.play(Transform(blue_circle, green_square))\n",
    "        self.wait()"
   ]
  },
  {
   "cell_type": "code",
   "execution_count": 5,
   "id": "02a69948-f6ff-400e-8462-982130937327",
   "metadata": {},
   "outputs": [
    {
     "data": {
      "text/html": [
       "<pre style=\"white-space:pre;overflow-x:auto;line-height:normal;font-family:Menlo,'DejaVu Sans Mono',consolas,'Courier New',monospace\">Manim Community <span style=\"color: #008000; text-decoration-color: #008000\">v0.19.0</span>\n",
       "\n",
       "</pre>\n"
      ],
      "text/plain": [
       "Manim Community \u001b[32mv0.\u001b[0m\u001b[32m19.0\u001b[0m\n",
       "\n"
      ]
     },
     "metadata": {},
     "output_type": "display_data"
    },
    {
     "name": "stderr",
     "output_type": "stream",
     "text": [
      "                                                                                                                                         "
     ]
    },
    {
     "data": {
      "text/html": [
       "<video src=\"media\\jupyter\\mathScene2@2025-07-29@09-38-24.mp4\" controls autoplay loop style=\"max-width: 75%;\"  >\n",
       "      Your browser does not support the <code>video</code> element.\n",
       "    </video>"
      ],
      "text/plain": [
       "<IPython.core.display.Video object>"
      ]
     },
     "metadata": {},
     "output_type": "display_data"
    }
   ],
   "source": [
    "%%manim -r 1080,1920 -qm mathScene2\n",
    "config.pixel_width = 1080\n",
    "config.pixel_height = 1920\n",
    "config.frame_height = 16\n",
    "config.frame_width = 9\n",
    "\n",
    "class mathScene2(Scene):\n",
    "    def construct(self):\n",
    "        \n",
    "            \n",
    "        label = MathTex(r\"\\text{Simplify: }\", r\"\\tan(\\arcsin(x))\")\n",
    "\n",
    "        self.play(Write(label))\n",
    "        self.wait(10)\n",
    "\n",
    "        self.play(label.animate.shift(UP * 4))\n",
    "        #label.to_edge(UP)\n",
    "        self.wait()\n",
    "        \n",
    "        # Target the \\arcsin(x) inside label[1]\n",
    "        # Use MathTex to isolate arcsin(x) for accurate positioning\n",
    "        # Highlight arcsin(x) using a rectangle\n",
    "        arcsin_part = VGroup(*label[1][4:13])  # Adjust indices if needed\n",
    "        highlight_box = SurroundingRectangle(arcsin_part, color=YELLOW, buff=0.1)\n",
    "        self.play(Create(highlight_box))\n",
    "        self.wait(2)\n",
    "\n",
    "\n",
    "        # Show explanation: arcsin(x) = θ → sin(θ) = x\n",
    "        explain1 = MathTex(r\"\\arcsin(x) = \\theta\")\n",
    "        explain1.arrange(DOWN).next_to(highlight_box, DOWN)\n",
    "\n",
    "        self.play(Write(explain1))\n",
    "        self.wait(3)\n",
    "\n",
    "        explain2 = MathTex(r\"\\Rightarrow \\sin(\\theta) = x\")\n",
    "        explain2.next_to(explain1, DOWN)\n",
    "        self.play(Write(explain2))\n",
    "        self.wait(3)\n",
    "        \n",
    "        #STEP1\n",
    "        #step1 = MathTex(r\"\\theta = \\arcsin(x)\")\n",
    "        #step1.next_to(label, DOWN, buff=1.0)\n",
    "        #self.play(Write(step1))\n",
    "        #self.wait(5)\n",
    "\n",
    "        #step2 = MathTex(r\"\\sin(\\arcsin(x))\", \" = \", r\"\\sin(\\theta)\")\n",
    "        #step2.next_to(label, DOWN, buff = 1.0)\n",
    "        #self.play(TransformMatchingShapes(step1, step2))\n",
    "        #self.wait(3)\n",
    "\n",
    "        #step3 = MathTex(r\"\\sin(\\theta)\", r\" = \", r\"x\" )\n",
    "        #step3.next_to(step2, DOWN)\n",
    "        #self.play(Write(step3))\n",
    "        #self.wait(5)\n",
    "        \n",
    "        #step3.1 = MathTex(r\"x\", r\" = \",r\"\\sin(\\theta)\")\n",
    "        #step3.1.next_to(step1, DOWN)\n",
    "        #self.play(TransformMatchingShapes(step3, step3.1))\n",
    "        #self.wait(3)\n",
    "\n",
    "        question1 = MathTex(r\"\\text{If }\", r\"\\sin(\\theta) = x\", \", \", r\"\\text{What is}\", r\"\\tan(\\theta)? \")\n",
    "        question1.set_color_by_tex(r\"\\sin(\\theta) = x\", GREEN)\n",
    "        question1.set_color_by_tex(r\"\\tan(\\theta)\", RED)\n",
    "        question1.next_to(label, DOWN, buff = 4)\n",
    "        self.play(Write(question1))\n",
    "        self.wait(3)\n",
    "\n",
    "        statement = Text(\"Recall the pythagorean theorem \", font_size=30)\n",
    "        statement.next_to(question1, DOWN)\n",
    "        self.play(Write(statement))\n",
    "        self.wait()\n",
    "\n",
    "        step3_1 = MathTex(r\"\\sin(\\theta)\", r\" = \", r\"x\")\n",
    "        step3_1.next_to(statement, DOWN)\n",
    "        self.play(Write(step3_1))\n",
    "        self.wait()\n",
    "\n",
    "        step3_2 = MathTex(r\"\\sin(\\theta)\", r\" = \", r\"\\frac{x}{1}\")\n",
    "        step3_2.set_color_by_tex(r\"\\frac{x}{1}\", GREEN)\n",
    "        step3_2.next_to(statement, DOWN)\n",
    "        self.play(TransformMatchingShapes(step3_1,step3_2))\n",
    "        self.wait(3)\n",
    "\n",
    "        step3_3 = MathTex(r\"\\sin(\\theta)\", r\" = \", r\"\\frac{x}{1}\", r\" = \", r\"\\frac{OPP}{HYP}\")\n",
    "        step3_3.set_color_by_tex(r\"\\frac{OPP}{HYP}\", YELLOW)\n",
    "        step3_3.next_to(statement, DOWN)\n",
    "        self.play(TransformMatchingShapes(step3_2,step3_3))\n",
    "        self.wait(3)\n",
    "\n",
    "        objects_to_fade = [m for m in self.mobjects if m != label]\n",
    "        self.play(*[FadeOut(m) for m in objects_to_fade])\n",
    "        self.wait()\n",
    "\n",
    "        statement2 = Text(\"(SOH CAH TOA)\", font_size=30)\n",
    "        statement2.next_to(label, DOWN, buff = 1.5 )\n",
    "        self.play(Write(statement2))\n",
    "        self.wait()\n",
    "\n",
    "        #Insert triangle here\n",
    "        # Right-angled triangle with labels\n",
    "       # Right-angled triangle with labels\n",
    "        A = ORIGIN\n",
    "        B = A + 3 * RIGHT\n",
    "        C = A + 2 * UP\n",
    "        \n",
    "        triangle = Polygon(A, B, C, color=BLUE)\n",
    "        self.play(Create(triangle))\n",
    "        \n",
    "        # Label the triangle sides\n",
    "        opp = MathTex(\"HYP\").move_to((B + C) / 2 + UP * 0.6)\n",
    "        adj = MathTex(\"ADJ\").move_to((A + B) / 2 + DOWN * 0.3)\n",
    "        hyp = MathTex(\"OPP\").move_to((A + C) / 2 + LEFT * 0.6)\n",
    "        self.play(Write(opp), Write(adj), Write(hyp))\n",
    "        \n",
    "        # Mark the right angle (corrected method)\n",
    "        right_angle = Square(0.3, color = BLUE)\n",
    "        right_angle.move_to(A + UR * 0.15)\n",
    "        self.play(Create(right_angle))\n",
    "        self.wait(2)\n",
    "\n",
    "        \n",
    "        # Fade out everything except `label`\n",
    "        objects_to_fade = [m for m in self.mobjects if m != label]\n",
    "        self.play(*[FadeOut(m) for m in objects_to_fade])\n",
    "        self.wait()\n",
    "        \n",
    "        #left_side = VGroup(\n",
    "            #label,\n",
    "            #step2,\n",
    "            #step3,\n",
    "            #question1,\n",
    "            #step3_3\n",
    "        #)\n",
    "        #self.play(left_side.animate.shift(LEFT * 2))\n",
    "        #self.wait(5)\n",
    "        \n",
    "        #result = MathTex(r\"\\tan(\\arcsin(x))\", \" = \", r\"\\frac{x}{\\sqrt{1-x^2}}\")\n",
    "        #self.play(result.animate.to_edge(DOWN))\n",
    "        #self.wait(5)"
   ]
  },
  {
   "cell_type": "markdown",
   "id": "68b8cbef-9317-4dc8-8f7d-720b6de352ba",
   "metadata": {},
   "source": []
  }
 ],
 "metadata": {
  "kernelspec": {
   "display_name": "Python [conda env:base] *",
   "language": "python",
   "name": "conda-base-py"
  },
  "language_info": {
   "codemirror_mode": {
    "name": "ipython",
    "version": 3
   },
   "file_extension": ".py",
   "mimetype": "text/x-python",
   "name": "python",
   "nbconvert_exporter": "python",
   "pygments_lexer": "ipython3",
   "version": "3.13.5"
  }
 },
 "nbformat": 4,
 "nbformat_minor": 5
}
